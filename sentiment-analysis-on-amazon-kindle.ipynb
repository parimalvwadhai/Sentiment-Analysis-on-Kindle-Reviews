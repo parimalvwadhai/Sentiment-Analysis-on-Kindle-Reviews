{
 "cells": [
  {
   "cell_type": "markdown",
   "id": "5eafab1e",
   "metadata": {
    "papermill": {
     "duration": 0.065202,
     "end_time": "2022-03-20T07:58:23.163538",
     "exception": false,
     "start_time": "2022-03-20T07:58:23.098336",
     "status": "completed"
    },
    "tags": []
   },
   "source": [
    "# Sentiment Analysis with Logistic Regression\n",
    "\n",
    "![](https://miro.medium.com/max/1400/0*q3wC98LKNGFSFwdG.gif)\n",
    "\n",
    "We will do the following operations to train a sentiment analysis model:\n",
    "- Load the the necessary modules\n",
    "- Preprocessing our data-set\n",
    "- EDA\n",
    "- Split the dataset\n",
    "- Train the model\n",
    "- Fine-tuned Model\n",
    "- Conclusion"
   ]
  },
  {
   "cell_type": "markdown",
   "id": "c6542b7a",
   "metadata": {
    "papermill": {
     "duration": 0.06361,
     "end_time": "2022-03-20T07:58:23.292923",
     "exception": false,
     "start_time": "2022-03-20T07:58:23.229313",
     "status": "completed"
    },
    "tags": []
   },
   "source": [
    "![](https://i.gifer.com/UDdW.gif)"
   ]
  },
  {
   "cell_type": "markdown",
   "id": "6c4dab2f",
   "metadata": {
    "papermill": {
     "duration": 0.06318,
     "end_time": "2022-03-20T07:58:23.421369",
     "exception": false,
     "start_time": "2022-03-20T07:58:23.358189",
     "status": "completed"
    },
    "tags": []
   },
   "source": [
    "# Importing necessary modules"
   ]
  },
  {
   "cell_type": "code",
   "execution_count": 1,
   "id": "7458dec0",
   "metadata": {
    "execution": {
     "iopub.execute_input": "2022-03-20T07:58:23.561315Z",
     "iopub.status.busy": "2022-03-20T07:58:23.560674Z",
     "iopub.status.idle": "2022-03-20T07:58:27.007095Z",
     "shell.execute_reply": "2022-03-20T07:58:27.006103Z",
     "shell.execute_reply.started": "2022-03-20T07:14:38.379554Z"
    },
    "papermill": {
     "duration": 3.520787,
     "end_time": "2022-03-20T07:58:27.007324",
     "exception": false,
     "start_time": "2022-03-20T07:58:23.486537",
     "status": "completed"
    },
    "tags": []
   },
   "outputs": [],
   "source": [
    "import re\n",
    "import string\n",
    "import numpy as np\n",
    "import pandas as pd\n",
    "\n",
    "import nltk\n",
    "from nltk.corpus import wordnet\n",
    "from nltk.corpus import stopwords\n",
    "from nltk.stem import WordNetLemmatizer\n",
    "\n",
    "import seaborn as sns\n",
    "import plotly.express as px\n",
    "import matplotlib.pyplot as plt\n",
    "from wordcloud import WordCloud\n",
    "import plotly.graph_objects as go\n",
    "\n",
    "from sklearn import metrics\n",
    "from sklearn.metrics import ConfusionMatrixDisplay,confusion_matrix\n",
    "from sklearn.linear_model import LogisticRegression\n",
    "from sklearn.model_selection import train_test_split\n",
    "from sklearn.feature_extraction.text import CountVectorizer"
   ]
  },
  {
   "cell_type": "markdown",
   "id": "955ccdf6",
   "metadata": {
    "papermill": {
     "duration": 0.062042,
     "end_time": "2022-03-20T07:58:27.139002",
     "exception": false,
     "start_time": "2022-03-20T07:58:27.076960",
     "status": "completed"
    },
    "tags": []
   },
   "source": [
    "# Loading our data"
   ]
  },
  {
   "cell_type": "code",
   "execution_count": 2,
   "id": "f336b292",
   "metadata": {
    "execution": {
     "iopub.execute_input": "2022-03-20T07:58:27.268556Z",
     "iopub.status.busy": "2022-03-20T07:58:27.267805Z",
     "iopub.status.idle": "2022-03-20T07:58:27.437995Z",
     "shell.execute_reply": "2022-03-20T07:58:27.437349Z",
     "shell.execute_reply.started": "2022-03-20T07:14:38.391457Z"
    },
    "papermill": {
     "duration": 0.238788,
     "end_time": "2022-03-20T07:58:27.438197",
     "exception": false,
     "start_time": "2022-03-20T07:58:27.199409",
     "status": "completed"
    },
    "tags": []
   },
   "outputs": [],
   "source": [
    "# loading our data using pandas read_csv\n",
    "\n",
    "data = pd.read_csv(\"../input/amazon-kindle-book-review-for-sentiment-analysis/preprocessed_kindle_review .csv\")\n",
    "df = data"
   ]
  },
  {
   "cell_type": "code",
   "execution_count": 3,
   "id": "922d7e6d",
   "metadata": {
    "execution": {
     "iopub.execute_input": "2022-03-20T07:58:27.576539Z",
     "iopub.status.busy": "2022-03-20T07:58:27.575619Z",
     "iopub.status.idle": "2022-03-20T07:58:27.579845Z",
     "shell.execute_reply": "2022-03-20T07:58:27.580334Z",
     "shell.execute_reply.started": "2022-03-20T07:14:38.522336Z"
    },
    "papermill": {
     "duration": 0.077359,
     "end_time": "2022-03-20T07:58:27.580501",
     "exception": false,
     "start_time": "2022-03-20T07:58:27.503142",
     "status": "completed"
    },
    "tags": []
   },
   "outputs": [
    {
     "data": {
      "text/plain": [
       "(12000, 4)"
      ]
     },
     "execution_count": 3,
     "metadata": {},
     "output_type": "execute_result"
    }
   ],
   "source": [
    "# printing dim of the data\n",
    "\n",
    "data.shape"
   ]
  },
  {
   "cell_type": "code",
   "execution_count": 4,
   "id": "896c6b54",
   "metadata": {
    "execution": {
     "iopub.execute_input": "2022-03-20T07:58:27.714847Z",
     "iopub.status.busy": "2022-03-20T07:58:27.713836Z",
     "iopub.status.idle": "2022-03-20T07:58:27.719770Z",
     "shell.execute_reply": "2022-03-20T07:58:27.720360Z",
     "shell.execute_reply.started": "2022-03-20T07:14:38.532075Z"
    },
    "papermill": {
     "duration": 0.074417,
     "end_time": "2022-03-20T07:58:27.720541",
     "exception": false,
     "start_time": "2022-03-20T07:58:27.646124",
     "status": "completed"
    },
    "tags": []
   },
   "outputs": [
    {
     "data": {
      "text/plain": [
       "Index(['Unnamed: 0', 'rating', 'reviewText', 'summary'], dtype='object')"
      ]
     },
     "execution_count": 4,
     "metadata": {},
     "output_type": "execute_result"
    }
   ],
   "source": [
    "# displaying all the columns of the dataset\n",
    "\n",
    "data.columns"
   ]
  },
  {
   "cell_type": "code",
   "execution_count": 5,
   "id": "cf10406a",
   "metadata": {
    "execution": {
     "iopub.execute_input": "2022-03-20T07:58:27.854780Z",
     "iopub.status.busy": "2022-03-20T07:58:27.853800Z",
     "iopub.status.idle": "2022-03-20T07:58:27.871548Z",
     "shell.execute_reply": "2022-03-20T07:58:27.872099Z",
     "shell.execute_reply.started": "2022-03-20T07:14:38.552293Z"
    },
    "papermill": {
     "duration": 0.086369,
     "end_time": "2022-03-20T07:58:27.872279",
     "exception": false,
     "start_time": "2022-03-20T07:58:27.785910",
     "status": "completed"
    },
    "tags": []
   },
   "outputs": [
    {
     "data": {
      "text/html": [
       "<div>\n",
       "<style scoped>\n",
       "    .dataframe tbody tr th:only-of-type {\n",
       "        vertical-align: middle;\n",
       "    }\n",
       "\n",
       "    .dataframe tbody tr th {\n",
       "        vertical-align: top;\n",
       "    }\n",
       "\n",
       "    .dataframe thead th {\n",
       "        text-align: right;\n",
       "    }\n",
       "</style>\n",
       "<table border=\"1\" class=\"dataframe\">\n",
       "  <thead>\n",
       "    <tr style=\"text-align: right;\">\n",
       "      <th></th>\n",
       "      <th>Unnamed: 0</th>\n",
       "      <th>rating</th>\n",
       "      <th>reviewText</th>\n",
       "      <th>summary</th>\n",
       "    </tr>\n",
       "  </thead>\n",
       "  <tbody>\n",
       "    <tr>\n",
       "      <th>0</th>\n",
       "      <td>0</td>\n",
       "      <td>5</td>\n",
       "      <td>This book was the very first bookmobile book I...</td>\n",
       "      <td>50 + years ago...</td>\n",
       "    </tr>\n",
       "    <tr>\n",
       "      <th>1</th>\n",
       "      <td>1</td>\n",
       "      <td>1</td>\n",
       "      <td>When I read the description for this book, I c...</td>\n",
       "      <td>Boring! Boring! Boring!</td>\n",
       "    </tr>\n",
       "    <tr>\n",
       "      <th>2</th>\n",
       "      <td>2</td>\n",
       "      <td>5</td>\n",
       "      <td>I just had to edit this review. This book is a...</td>\n",
       "      <td>Wiggleliscious/new toy ready/!!</td>\n",
       "    </tr>\n",
       "    <tr>\n",
       "      <th>3</th>\n",
       "      <td>3</td>\n",
       "      <td>5</td>\n",
       "      <td>I don't normally buy 'mystery' novels because ...</td>\n",
       "      <td>Very good read.</td>\n",
       "    </tr>\n",
       "    <tr>\n",
       "      <th>4</th>\n",
       "      <td>4</td>\n",
       "      <td>5</td>\n",
       "      <td>This isn't the kind of book I normally read, a...</td>\n",
       "      <td>Great Story!</td>\n",
       "    </tr>\n",
       "  </tbody>\n",
       "</table>\n",
       "</div>"
      ],
      "text/plain": [
       "   Unnamed: 0  rating                                         reviewText  \\\n",
       "0           0       5  This book was the very first bookmobile book I...   \n",
       "1           1       1  When I read the description for this book, I c...   \n",
       "2           2       5  I just had to edit this review. This book is a...   \n",
       "3           3       5  I don't normally buy 'mystery' novels because ...   \n",
       "4           4       5  This isn't the kind of book I normally read, a...   \n",
       "\n",
       "                           summary  \n",
       "0                50 + years ago...  \n",
       "1          Boring! Boring! Boring!  \n",
       "2  Wiggleliscious/new toy ready/!!  \n",
       "3                  Very good read.  \n",
       "4                     Great Story!  "
      ]
     },
     "execution_count": 5,
     "metadata": {},
     "output_type": "execute_result"
    }
   ],
   "source": [
    "# quick review of the dataset\n",
    "\n",
    "data.head()"
   ]
  },
  {
   "cell_type": "code",
   "execution_count": 6,
   "id": "83c7ae5f",
   "metadata": {
    "execution": {
     "iopub.execute_input": "2022-03-20T07:58:28.010266Z",
     "iopub.status.busy": "2022-03-20T07:58:28.009299Z",
     "iopub.status.idle": "2022-03-20T07:58:28.017561Z",
     "shell.execute_reply": "2022-03-20T07:58:28.018134Z",
     "shell.execute_reply.started": "2022-03-20T07:14:38.574401Z"
    },
    "papermill": {
     "duration": 0.07838,
     "end_time": "2022-03-20T07:58:28.018308",
     "exception": false,
     "start_time": "2022-03-20T07:58:27.939928",
     "status": "completed"
    },
    "tags": []
   },
   "outputs": [
    {
     "data": {
      "text/plain": [
       "'This book was the very first bookmobile book I bought when I was in the school book club. I loved the story then and I bet a dollar to a donut I will love it again. If my memory serves, I bought this book in 5th grade. That would have been about 1961. I am looking forward to reliving the memories.'"
      ]
     },
     "execution_count": 6,
     "metadata": {},
     "output_type": "execute_result"
    }
   ],
   "source": [
    "# printing the first review from the dataset\n",
    "\n",
    "data.reviewText[0]"
   ]
  },
  {
   "cell_type": "code",
   "execution_count": 7,
   "id": "42778d18",
   "metadata": {
    "execution": {
     "iopub.execute_input": "2022-03-20T07:58:28.154508Z",
     "iopub.status.busy": "2022-03-20T07:58:28.153542Z",
     "iopub.status.idle": "2022-03-20T07:58:28.164388Z",
     "shell.execute_reply": "2022-03-20T07:58:28.164982Z",
     "shell.execute_reply.started": "2022-03-20T07:14:38.585321Z"
    },
    "papermill": {
     "duration": 0.079856,
     "end_time": "2022-03-20T07:58:28.165157",
     "exception": false,
     "start_time": "2022-03-20T07:58:28.085301",
     "status": "completed"
    },
    "tags": []
   },
   "outputs": [
    {
     "data": {
      "text/plain": [
       "5    3000\n",
       "4    3000\n",
       "1    2000\n",
       "3    2000\n",
       "2    2000\n",
       "Name: rating, dtype: int64"
      ]
     },
     "execution_count": 7,
     "metadata": {},
     "output_type": "execute_result"
    }
   ],
   "source": [
    "# value_counts() function returns object containing counts of unique values. \n",
    "# The resulting object will be in descending order so that the first element is the most frequently-occurring element.\n",
    "\n",
    "a=data.rating.value_counts()\n",
    "a"
   ]
  },
  {
   "cell_type": "code",
   "execution_count": 8,
   "id": "f5f11163",
   "metadata": {
    "execution": {
     "iopub.execute_input": "2022-03-20T07:58:28.310626Z",
     "iopub.status.busy": "2022-03-20T07:58:28.309752Z",
     "iopub.status.idle": "2022-03-20T07:58:28.313036Z",
     "shell.execute_reply": "2022-03-20T07:58:28.313532Z",
     "shell.execute_reply.started": "2022-03-20T07:14:38.60517Z"
    },
    "papermill": {
     "duration": 0.082322,
     "end_time": "2022-03-20T07:58:28.313722",
     "exception": false,
     "start_time": "2022-03-20T07:58:28.231400",
     "status": "completed"
    },
    "tags": []
   },
   "outputs": [
    {
     "data": {
      "text/plain": [
       "Unnamed: 0    0\n",
       "rating        0\n",
       "reviewText    0\n",
       "summary       0\n",
       "dtype: int64"
      ]
     },
     "execution_count": 8,
     "metadata": {},
     "output_type": "execute_result"
    }
   ],
   "source": [
    "# checking for null values\n",
    "\n",
    "data.isnull().sum()"
   ]
  },
  {
   "cell_type": "code",
   "execution_count": 9,
   "id": "dc4cd1fb",
   "metadata": {
    "_kg_hide-input": true,
    "execution": {
     "iopub.execute_input": "2022-03-20T07:58:28.453748Z",
     "iopub.status.busy": "2022-03-20T07:58:28.452603Z",
     "iopub.status.idle": "2022-03-20T07:58:28.671750Z",
     "shell.execute_reply": "2022-03-20T07:58:28.671216Z",
     "shell.execute_reply.started": "2022-03-20T07:14:38.630423Z"
    },
    "papermill": {
     "duration": 0.288667,
     "end_time": "2022-03-20T07:58:28.671899",
     "exception": false,
     "start_time": "2022-03-20T07:58:28.383232",
     "status": "completed"
    },
    "tags": []
   },
   "outputs": [
    {
     "data": {
      "image/png": "[encoded data removed]",
      "text/plain": [
       "<Figure size 432x288 with 1 Axes>"
      ]
     },
     "metadata": {
      "needs_background": "light"
     },
     "output_type": "display_data"
    }
   ],
   "source": [
    "# PLotting Rating histogram\n",
    "\n",
    "data.rating.hist()\n",
    "plt.title(\"Distribution of rating using Matplotlib\")\n",
    "plt.show()"
   ]
  },
  {
   "cell_type": "code",
   "execution_count": 10,
   "id": "5fb2d983",
   "metadata": {
    "execution": {
     "iopub.execute_input": "2022-03-20T07:58:28.808895Z",
     "iopub.status.busy": "2022-03-20T07:58:28.807947Z",
     "iopub.status.idle": "2022-03-20T07:58:28.903135Z",
     "shell.execute_reply": "2022-03-20T07:58:28.903848Z",
     "shell.execute_reply.started": "2022-03-20T07:14:38.875492Z"
    },
    "papermill": {
     "duration": 0.16652,
     "end_time": "2022-03-20T07:58:28.904065",
     "exception": false,
     "start_time": "2022-03-20T07:58:28.737545",
     "status": "completed"
    },
    "tags": []
   },
   "outputs": [
    {
     "data": {
      "text/html": [
       "        <script type=\"text/javascript\">\n",
       "        window.PlotlyConfig = {MathJaxConfig: 'local'};\n",
       "        if (window.MathJax) {MathJax.Hub.Config({SVG: {font: \"STIX-Web\"}});}\n",
       "        if (typeof require !== 'undefined') {\n",
       "        require.undef(\"plotly\");\n",
       "        requirejs.config({\n",
       "            paths: {\n",
       "                'plotly': ['https://cdn.plot.ly/plotly-2.9.0.min']\n",
       "            }\n",
       "        });\n",
       "        require(['plotly'], function(Plotly) {\n",
       "            window._Plotly = Plotly;\n",
       "        });\n",
       "        }\n",
       "        </script>\n",
       "        "
      ]
     },
     "metadata": {},
     "output_type": "display_data"
    },
    {
     "data": {
      "text/html": [
       "<div>                            <div id=\"242a2ccf-f56e-48a9-b540-703d5b31c299\" class=\"plotly-graph-div\" style=\"height:525px; width:100%;\"></div>            <script type=\"text/javascript\">                require([\"plotly\"], function(Plotly) {                    window.PLOTLYENV=window.PLOTLYENV || {};                                    if (document.getElementById(\"242a2ccf-f56e-48a9-b540-703d5b31c299\")) {                    Plotly.newPlot(                        \"242a2ccf-f56e-48a9-b540-703d5b31c299\",                        [{\"text\":[3000.0,3000.0,2000.0,2000.0,2000.0],\"x\":[5,4,1,3,2],\"y\":[3000,3000,2000,2000,2000],\"type\":\"bar\"}],                        {\"template\":{\"data\":{\"bar\":[{\"error_x\":{\"color\":\"#2a3f5f\"},\"error_y\":{\"color\":\"#2a3f5f\"},\"marker\":{\"line\":{\"color\":\"#E5ECF6\",\"width\":0.5},\"pattern\":{\"fillmode\":\"overlay\",\"size\":10,\"solidity\":0.2}},\"type\":\"bar\"}],\"barpolar\":[{\"marker\":{\"line\":{\"color\":\"#E5ECF6\",\"width\":0.5},\"pattern\":{\"fillmode\":\"overlay\",\"size\":10,\"solidity\":0.2}},\"type\":\"barpolar\"}],\"carpet\":[{\"aaxis\":{\"endlinecolor\":\"#2a3f5f\",\"gridcolor\":\"white\",\"linecolor\":\"white\",\"minorgridcolor\":\"white\",\"startlinecolor\":\"#2a3f5f\"},\"baxis\":{\"endlinecolor\":\"#2a3f5f\",\"gridcolor\":\"white\",\"linecolor\":\"white\",\"minorgridcolor\":\"white\",\"startlinecolor\":\"#2a3f5f\"},\"type\":\"carpet\"}],\"choropleth\":[{\"colorbar\":{\"outlinewidth\":0,\"ticks\":\"\"},\"type\":\"choropleth\"}],\"contour\":[{\"colorbar\":{\"outlinewidth\":0,\"ticks\":\"\"},\"colorscale\":[[0.0,\"#0d0887\"],[0.1111111111111111,\"#46039f\"],[0.2222222222222222,\"#7201a8\"],[0.3333333333333333,\"#9c179e\"],[0.4444444444444444,\"#bd3786\"],[0.5555555555555556,\"#d8576b\"],[0.6666666666666666,\"#ed7953\"],[0.7777777777777778,\"#fb9f3a\"],[0.8888888888888888,\"#fdca26\"],[1.0,\"#f0f921\"]],\"type\":\"contour\"}],\"contourcarpet\":[{\"colorbar\":{\"outlinewidth\":0,\"ticks\":\"\"},\"type\":\"contourcarpet\"}],\"heatmap\":[{\"colorbar\":{\"outlinewidth\":0,\"ticks\":\"\"},\"colorscale\":[[0.0,\"#0d0887\"],[0.1111111111111111,\"#46039f\"],[0.2222222222222222,\"#7201a8\"],[0.3333333333333333,\"#9c179e\"],[0.4444444444444444,\"#bd3786\"],[0.5555555555555556,\"#d8576b\"],[0.6666666666666666,\"#ed7953\"],[0.7777777777777778,\"#fb9f3a\"],[0.8888888888888888,\"#fdca26\"],[1.0,\"#f0f921\"]],\"type\":\"heatmap\"}],\"heatmapgl\":[{\"colorbar\":{\"outlinewidth\":0,\"ticks\":\"\"},\"colorscale\":[[0.0,\"#0d0887\"],[0.1111111111111111,\"#46039f\"],[0.2222222222222222,\"#7201a8\"],[0.3333333333333333,\"#9c179e\"],[0.4444444444444444,\"#bd3786\"],[0.5555555555555556,\"#d8576b\"],[0.6666666666666666,\"#ed7953\"],[0.7777777777777778,\"#fb9f3a\"],[0.8888888888888888,\"#fdca26\"],[1.0,\"#f0f921\"]],\"type\":\"heatmapgl\"}],\"histogram\":[{\"marker\":{\"pattern\":{\"fillmode\":\"overlay\",\"size\":10,\"solidity\":0.2}},\"type\":\"histogram\"}],\"histogram2d\":[{\"colorbar\":{\"outlinewidth\":0,\"ticks\":\"\"},\"colorscale\":[[0.0,\"#0d0887\"],[0.1111111111111111,\"#46039f\"],[0.2222222222222222,\"#7201a8\"],[0.3333333333333333,\"#9c179e\"],[0.4444444444444444,\"#bd3786\"],[0.5555555555555556,\"#d8576b\"],[0.6666666666666666,\"#ed7953\"],[0.7777777777777778,\"#fb9f3a\"],[0.8888888888888888,\"#fdca26\"],[1.0,\"#f0f921\"]],\"type\":\"histogram2d\"}],\"histogram2dcontour\":[{\"colorbar\":{\"outlinewidth\":0,\"ticks\":\"\"},\"colorscale\":[[0.0,\"#0d0887\"],[0.1111111111111111,\"#46039f\"],[0.2222222222222222,\"#7201a8\"],[0.3333333333333333,\"#9c179e\"],[0.4444444444444444,\"#bd3786\"],[0.5555555555555556,\"#d8576b\"],[0.6666666666666666,\"#ed7953\"],[0.7777777777777778,\"#fb9f3a\"],[0.8888888888888888,\"#fdca26\"],[1.0,\"#f0f921\"]],\"type\":\"histogram2dcontour\"}],\"mesh3d\":[{\"colorbar\":{\"outlinewidth\":0,\"ticks\":\"\"},\"type\":\"mesh3d\"}],\"parcoords\":[{\"line\":{\"colorbar\":{\"outlinewidth\":0,\"ticks\":\"\"}},\"type\":\"parcoords\"}],\"pie\":[{\"automargin\":true,\"type\":\"pie\"}],\"scatter\":[{\"marker\":{\"colorbar\":{\"outlinewidth\":0,\"ticks\":\"\"}},\"type\":\"scatter\"}],\"scatter3d\":[{\"line\":{\"colorbar\":{\"outlinewidth\":0,\"ticks\":\"\"}},\"marker\":{\"colorbar\":{\"outlinewidth\":0,\"ticks\":\"\"}},\"type\":\"scatter3d\"}],\"scattercarpet\":[{\"marker\":{\"colorbar\":{\"outlinewidth\":0,\"ticks\":\"\"}},\"type\":\"scattercarpet\"}],\"scattergeo\":[{\"marker\":{\"colorbar\":{\"outlinewidth\":0,\"ticks\":\"\"}},\"type\":\"scattergeo\"}],\"scattergl\":[{\"marker\":{\"colorbar\":{\"outlinewidth\":0,\"ticks\":\"\"}},\"type\":\"scattergl\"}],\"scattermapbox\":[{\"marker\":{\"colorbar\":{\"outlinewidth\":0,\"ticks\":\"\"}},\"type\":\"scattermapbox\"}],\"scatterpolar\":[{\"marker\":{\"colorbar\":{\"outlinewidth\":0,\"ticks\":\"\"}},\"type\":\"scatterpolar\"}],\"scatterpolargl\":[{\"marker\":{\"colorbar\":{\"outlinewidth\":0,\"ticks\":\"\"}},\"type\":\"scatterpolargl\"}],\"scatterternary\":[{\"marker\":{\"colorbar\":{\"outlinewidth\":0,\"ticks\":\"\"}},\"type\":\"scatterternary\"}],\"surface\":[{\"colorbar\":{\"outlinewidth\":0,\"ticks\":\"\"},\"colorscale\":[[0.0,\"#0d0887\"],[0.1111111111111111,\"#46039f\"],[0.2222222222222222,\"#7201a8\"],[0.3333333333333333,\"#9c179e\"],[0.4444444444444444,\"#bd3786\"],[0.5555555555555556,\"#d8576b\"],[0.6666666666666666,\"#ed7953\"],[0.7777777777777778,\"#fb9f3a\"],[0.8888888888888888,\"#fdca26\"],[1.0,\"#f0f921\"]],\"type\":\"surface\"}],\"table\":[{\"cells\":{\"fill\":{\"color\":\"#EBF0F8\"},\"line\":{\"color\":\"white\"}},\"header\":{\"fill\":{\"color\":\"#C8D4E3\"},\"line\":{\"color\":\"white\"}},\"type\":\"table\"}]},\"layout\":{\"annotationdefaults\":{\"arrowcolor\":\"#2a3f5f\",\"arrowhead\":0,\"arrowwidth\":1},\"autotypenumbers\":\"strict\",\"coloraxis\":{\"colorbar\":{\"outlinewidth\":0,\"ticks\":\"\"}},\"colorscale\":{\"diverging\":[[0,\"#8e0152\"],[0.1,\"#c51b7d\"],[0.2,\"#de77ae\"],[0.3,\"#f1b6da\"],[0.4,\"#fde0ef\"],[0.5,\"#f7f7f7\"],[0.6,\"#e6f5d0\"],[0.7,\"#b8e186\"],[0.8,\"#7fbc41\"],[0.9,\"#4d9221\"],[1,\"#276419\"]],\"sequential\":[[0.0,\"#0d0887\"],[0.1111111111111111,\"#46039f\"],[0.2222222222222222,\"#7201a8\"],[0.3333333333333333,\"#9c179e\"],[0.4444444444444444,\"#bd3786\"],[0.5555555555555556,\"#d8576b\"],[0.6666666666666666,\"#ed7953\"],[0.7777777777777778,\"#fb9f3a\"],[0.8888888888888888,\"#fdca26\"],[1.0,\"#f0f921\"]],\"sequentialminus\":[[0.0,\"#0d0887\"],[0.1111111111111111,\"#46039f\"],[0.2222222222222222,\"#7201a8\"],[0.3333333333333333,\"#9c179e\"],[0.4444444444444444,\"#bd3786\"],[0.5555555555555556,\"#d8576b\"],[0.6666666666666666,\"#ed7953\"],[0.7777777777777778,\"#fb9f3a\"],[0.8888888888888888,\"#fdca26\"],[1.0,\"#f0f921\"]]},\"colorway\":[\"#636efa\",\"#EF553B\",\"#00cc96\",\"#ab63fa\",\"#FFA15A\",\"#19d3f3\",\"#FF6692\",\"#B6E880\",\"#FF97FF\",\"#FECB52\"],\"font\":{\"color\":\"#2a3f5f\"},\"geo\":{\"bgcolor\":\"white\",\"lakecolor\":\"white\",\"landcolor\":\"#E5ECF6\",\"showlakes\":true,\"showland\":true,\"subunitcolor\":\"white\"},\"hoverlabel\":{\"align\":\"left\"},\"hovermode\":\"closest\",\"mapbox\":{\"style\":\"light\"},\"paper_bgcolor\":\"white\",\"plot_bgcolor\":\"#E5ECF6\",\"polar\":{\"angularaxis\":{\"gridcolor\":\"white\",\"linecolor\":\"white\",\"ticks\":\"\"},\"bgcolor\":\"#E5ECF6\",\"radialaxis\":{\"gridcolor\":\"white\",\"linecolor\":\"white\",\"ticks\":\"\"}},\"scene\":{\"xaxis\":{\"backgroundcolor\":\"#E5ECF6\",\"gridcolor\":\"white\",\"gridwidth\":2,\"linecolor\":\"white\",\"showbackground\":true,\"ticks\":\"\",\"zerolinecolor\":\"white\"},\"yaxis\":{\"backgroundcolor\":\"#E5ECF6\",\"gridcolor\":\"white\",\"gridwidth\":2,\"linecolor\":\"white\",\"showbackground\":true,\"ticks\":\"\",\"zerolinecolor\":\"white\"},\"zaxis\":{\"backgroundcolor\":\"#E5ECF6\",\"gridcolor\":\"white\",\"gridwidth\":2,\"linecolor\":\"white\",\"showbackground\":true,\"ticks\":\"\",\"zerolinecolor\":\"white\"}},\"shapedefaults\":{\"line\":{\"color\":\"#2a3f5f\"}},\"ternary\":{\"aaxis\":{\"gridcolor\":\"white\",\"linecolor\":\"white\",\"ticks\":\"\"},\"baxis\":{\"gridcolor\":\"white\",\"linecolor\":\"white\",\"ticks\":\"\"},\"bgcolor\":\"#E5ECF6\",\"caxis\":{\"gridcolor\":\"white\",\"linecolor\":\"white\",\"ticks\":\"\"}},\"title\":{\"x\":0.05},\"xaxis\":{\"automargin\":true,\"gridcolor\":\"white\",\"linecolor\":\"white\",\"ticks\":\"\",\"title\":{\"standoff\":15},\"zerolinecolor\":\"white\",\"zerolinewidth\":2},\"yaxis\":{\"automargin\":true,\"gridcolor\":\"white\",\"linecolor\":\"white\",\"ticks\":\"\",\"title\":{\"standoff\":15},\"zerolinecolor\":\"white\",\"zerolinewidth\":2}}},\"title\":{\"text\":\"Distribution of the Rating using ploty\"}},                        {\"responsive\": true}                    ).then(function(){\n",
       "                            \n",
       "var gd = document.getElementById('242a2ccf-f56e-48a9-b540-703d5b31c299');\n",
       "var x = new MutationObserver(function (mutations, observer) {{\n",
       "        var display = window.getComputedStyle(gd).display;\n",
       "        if (!display || display === 'none') {{\n",
       "            console.log([gd, 'removed!']);\n",
       "            Plotly.purge(gd);\n",
       "            observer.disconnect();\n",
       "        }}\n",
       "}});\n",
       "\n",
       "// Listen for the removal of the full notebook cells\n",
       "var notebookContainer = gd.closest('#notebook-container');\n",
       "if (notebookContainer) {{\n",
       "    x.observe(notebookContainer, {childList: true});\n",
       "}}\n",
       "\n",
       "// Listen for the clearing of the current output cell\n",
       "var outputEl = gd.closest('.output');\n",
       "if (outputEl) {{\n",
       "    x.observe(outputEl, {childList: true});\n",
       "}}\n",
       "\n",
       "                        })                };                });            </script>        </div>"
      ]
     },
     "metadata": {},
     "output_type": "display_data"
    }
   ],
   "source": [
    "# PLotting Rating using ploty\n",
    "\n",
    "fig = go.Figure([go.Bar(x=a.index, y=a.values,text=a.values)])\n",
    "fig.update_layout(title='Distribution of the Rating using ploty')\n",
    "fig.show()"
   ]
  },
  {
   "cell_type": "markdown",
   "id": "88f5e507",
   "metadata": {
    "papermill": {
     "duration": 0.070161,
     "end_time": "2022-03-20T07:58:29.043083",
     "exception": false,
     "start_time": "2022-03-20T07:58:28.972922",
     "status": "completed"
    },
    "tags": []
   },
   "source": [
    "# Preprocessing Data"
   ]
  },
  {
   "cell_type": "markdown",
   "id": "d3b8c94f",
   "metadata": {
    "papermill": {
     "duration": 0.066099,
     "end_time": "2022-03-20T07:58:29.178768",
     "exception": false,
     "start_time": "2022-03-20T07:58:29.112669",
     "status": "completed"
    },
    "tags": []
   },
   "source": [
    "- Dropping columns that are not needed"
   ]
  },
  {
   "cell_type": "code",
   "execution_count": 11,
   "id": "2ec7bb72",
   "metadata": {
    "_kg_hide-input": true,
    "execution": {
     "iopub.execute_input": "2022-03-20T07:58:29.320365Z",
     "iopub.status.busy": "2022-03-20T07:58:29.319362Z",
     "iopub.status.idle": "2022-03-20T07:58:29.325068Z",
     "shell.execute_reply": "2022-03-20T07:58:29.325534Z",
     "shell.execute_reply.started": "2022-03-20T07:14:38.895572Z"
    },
    "papermill": {
     "duration": 0.076895,
     "end_time": "2022-03-20T07:58:29.325735",
     "exception": false,
     "start_time": "2022-03-20T07:58:29.248840",
     "status": "completed"
    },
    "tags": []
   },
   "outputs": [
    {
     "data": {
      "text/plain": [
       "Index(['Unnamed: 0', 'rating', 'reviewText', 'summary'], dtype='object')"
      ]
     },
     "execution_count": 11,
     "metadata": {},
     "output_type": "execute_result"
    }
   ],
   "source": [
    "data.columns"
   ]
  },
  {
   "cell_type": "code",
   "execution_count": 12,
   "id": "8385b33c",
   "metadata": {
    "execution": {
     "iopub.execute_input": "2022-03-20T07:58:29.464886Z",
     "iopub.status.busy": "2022-03-20T07:58:29.463881Z",
     "iopub.status.idle": "2022-03-20T07:58:29.473449Z",
     "shell.execute_reply": "2022-03-20T07:58:29.472748Z",
     "shell.execute_reply.started": "2022-03-20T07:14:38.906808Z"
    },
    "papermill": {
     "duration": 0.079725,
     "end_time": "2022-03-20T07:58:29.473616",
     "exception": false,
     "start_time": "2022-03-20T07:58:29.393891",
     "status": "completed"
    },
    "tags": []
   },
   "outputs": [],
   "source": [
    "data = data.drop(['Unnamed: 0', 'summary'], axis=1)"
   ]
  },
  {
   "cell_type": "code",
   "execution_count": 13,
   "id": "6f5c139f",
   "metadata": {
    "execution": {
     "iopub.execute_input": "2022-03-20T07:58:29.620443Z",
     "iopub.status.busy": "2022-03-20T07:58:29.619460Z",
     "iopub.status.idle": "2022-03-20T07:58:29.622983Z",
     "shell.execute_reply": "2022-03-20T07:58:29.623484Z",
     "shell.execute_reply.started": "2022-03-20T07:14:38.923662Z"
    },
    "papermill": {
     "duration": 0.082058,
     "end_time": "2022-03-20T07:58:29.623657",
     "exception": false,
     "start_time": "2022-03-20T07:58:29.541599",
     "status": "completed"
    },
    "tags": []
   },
   "outputs": [
    {
     "data": {
      "text/html": [
       "<div>\n",
       "<style scoped>\n",
       "    .dataframe tbody tr th:only-of-type {\n",
       "        vertical-align: middle;\n",
       "    }\n",
       "\n",
       "    .dataframe tbody tr th {\n",
       "        vertical-align: top;\n",
       "    }\n",
       "\n",
       "    .dataframe thead th {\n",
       "        text-align: right;\n",
       "    }\n",
       "</style>\n",
       "<table border=\"1\" class=\"dataframe\">\n",
       "  <thead>\n",
       "    <tr style=\"text-align: right;\">\n",
       "      <th></th>\n",
       "      <th>rating</th>\n",
       "      <th>reviewText</th>\n",
       "    </tr>\n",
       "  </thead>\n",
       "  <tbody>\n",
       "    <tr>\n",
       "      <th>0</th>\n",
       "      <td>5</td>\n",
       "      <td>This book was the very first bookmobile book I...</td>\n",
       "    </tr>\n",
       "    <tr>\n",
       "      <th>1</th>\n",
       "      <td>1</td>\n",
       "      <td>When I read the description for this book, I c...</td>\n",
       "    </tr>\n",
       "    <tr>\n",
       "      <th>2</th>\n",
       "      <td>5</td>\n",
       "      <td>I just had to edit this review. This book is a...</td>\n",
       "    </tr>\n",
       "    <tr>\n",
       "      <th>3</th>\n",
       "      <td>5</td>\n",
       "      <td>I don't normally buy 'mystery' novels because ...</td>\n",
       "    </tr>\n",
       "    <tr>\n",
       "      <th>4</th>\n",
       "      <td>5</td>\n",
       "      <td>This isn't the kind of book I normally read, a...</td>\n",
       "    </tr>\n",
       "  </tbody>\n",
       "</table>\n",
       "</div>"
      ],
      "text/plain": [
       "   rating                                         reviewText\n",
       "0       5  This book was the very first bookmobile book I...\n",
       "1       1  When I read the description for this book, I c...\n",
       "2       5  I just had to edit this review. This book is a...\n",
       "3       5  I don't normally buy 'mystery' novels because ...\n",
       "4       5  This isn't the kind of book I normally read, a..."
      ]
     },
     "execution_count": 13,
     "metadata": {},
     "output_type": "execute_result"
    }
   ],
   "source": [
    "# preview of the dataset\n",
    "\n",
    "data.head()"
   ]
  },
  {
   "cell_type": "markdown",
   "id": "eeadd6b6",
   "metadata": {
    "papermill": {
     "duration": 0.068527,
     "end_time": "2022-03-20T07:58:29.761377",
     "exception": false,
     "start_time": "2022-03-20T07:58:29.692850",
     "status": "completed"
    },
    "tags": []
   },
   "source": [
    "- converting rating to 0 and 1 from 1-5"
   ]
  },
  {
   "cell_type": "code",
   "execution_count": 14,
   "id": "0e734994",
   "metadata": {
    "execution": {
     "iopub.execute_input": "2022-03-20T07:58:29.908497Z",
     "iopub.status.busy": "2022-03-20T07:58:29.907457Z",
     "iopub.status.idle": "2022-03-20T07:58:29.929444Z",
     "shell.execute_reply": "2022-03-20T07:58:29.930004Z",
     "shell.execute_reply.started": "2022-03-20T07:14:38.944732Z"
    },
    "papermill": {
     "duration": 0.100621,
     "end_time": "2022-03-20T07:58:29.930184",
     "exception": false,
     "start_time": "2022-03-20T07:58:29.829563",
     "status": "completed"
    },
    "tags": []
   },
   "outputs": [
    {
     "data": {
      "text/html": [
       "<div>\n",
       "<style scoped>\n",
       "    .dataframe tbody tr th:only-of-type {\n",
       "        vertical-align: middle;\n",
       "    }\n",
       "\n",
       "    .dataframe tbody tr th {\n",
       "        vertical-align: top;\n",
       "    }\n",
       "\n",
       "    .dataframe thead th {\n",
       "        text-align: right;\n",
       "    }\n",
       "</style>\n",
       "<table border=\"1\" class=\"dataframe\">\n",
       "  <thead>\n",
       "    <tr style=\"text-align: right;\">\n",
       "      <th></th>\n",
       "      <th>rating</th>\n",
       "      <th>reviewText</th>\n",
       "    </tr>\n",
       "  </thead>\n",
       "  <tbody>\n",
       "    <tr>\n",
       "      <th>0</th>\n",
       "      <td>0</td>\n",
       "      <td>This book was the very first bookmobile book I...</td>\n",
       "    </tr>\n",
       "    <tr>\n",
       "      <th>1</th>\n",
       "      <td>1</td>\n",
       "      <td>When I read the description for this book, I c...</td>\n",
       "    </tr>\n",
       "    <tr>\n",
       "      <th>2</th>\n",
       "      <td>0</td>\n",
       "      <td>I just had to edit this review. This book is a...</td>\n",
       "    </tr>\n",
       "    <tr>\n",
       "      <th>3</th>\n",
       "      <td>0</td>\n",
       "      <td>I don't normally buy 'mystery' novels because ...</td>\n",
       "    </tr>\n",
       "    <tr>\n",
       "      <th>4</th>\n",
       "      <td>0</td>\n",
       "      <td>This isn't the kind of book I normally read, a...</td>\n",
       "    </tr>\n",
       "    <tr>\n",
       "      <th>...</th>\n",
       "      <td>...</td>\n",
       "      <td>...</td>\n",
       "    </tr>\n",
       "    <tr>\n",
       "      <th>11995</th>\n",
       "      <td>1</td>\n",
       "      <td>Had to read certain passages twice--typos.  Wi...</td>\n",
       "    </tr>\n",
       "    <tr>\n",
       "      <th>11996</th>\n",
       "      <td>0</td>\n",
       "      <td>Not what i expected. yet a very interesting bo...</td>\n",
       "    </tr>\n",
       "    <tr>\n",
       "      <th>11997</th>\n",
       "      <td>0</td>\n",
       "      <td>Dragon Knights is a world where Knights ride d...</td>\n",
       "    </tr>\n",
       "    <tr>\n",
       "      <th>11998</th>\n",
       "      <td>0</td>\n",
       "      <td>Since this story is very short, it's hard to s...</td>\n",
       "    </tr>\n",
       "    <tr>\n",
       "      <th>11999</th>\n",
       "      <td>0</td>\n",
       "      <td>from 1922 an amazing collection of info on sym...</td>\n",
       "    </tr>\n",
       "  </tbody>\n",
       "</table>\n",
       "<p>12000 rows × 2 columns</p>\n",
       "</div>"
      ],
      "text/plain": [
       "       rating                                         reviewText\n",
       "0           0  This book was the very first bookmobile book I...\n",
       "1           1  When I read the description for this book, I c...\n",
       "2           0  I just had to edit this review. This book is a...\n",
       "3           0  I don't normally buy 'mystery' novels because ...\n",
       "4           0  This isn't the kind of book I normally read, a...\n",
       "...       ...                                                ...\n",
       "11995       1  Had to read certain passages twice--typos.  Wi...\n",
       "11996       0  Not what i expected. yet a very interesting bo...\n",
       "11997       0  Dragon Knights is a world where Knights ride d...\n",
       "11998       0  Since this story is very short, it's hard to s...\n",
       "11999       0  from 1922 an amazing collection of info on sym...\n",
       "\n",
       "[12000 rows x 2 columns]"
      ]
     },
     "execution_count": 14,
     "metadata": {},
     "output_type": "execute_result"
    }
   ],
   "source": [
    "# if rating is above 3 we will consider it as 1 else 0.\n",
    "\n",
    "data[\"rating\"] = data[\"rating\"].apply(lambda x: 1 if x < 3  else 0) # positive as 0 and negative as 1\n",
    "data"
   ]
  },
  {
   "cell_type": "code",
   "execution_count": 15,
   "id": "fef57785",
   "metadata": {
    "execution": {
     "iopub.execute_input": "2022-03-20T07:58:30.074119Z",
     "iopub.status.busy": "2022-03-20T07:58:30.072650Z",
     "iopub.status.idle": "2022-03-20T07:58:30.107091Z",
     "shell.execute_reply": "2022-03-20T07:58:30.107671Z",
     "shell.execute_reply.started": "2022-03-20T07:14:38.97415Z"
    },
    "papermill": {
     "duration": 0.10552,
     "end_time": "2022-03-20T07:58:30.107860",
     "exception": false,
     "start_time": "2022-03-20T07:58:30.002340",
     "status": "completed"
    },
    "tags": []
   },
   "outputs": [
    {
     "data": {
      "text/html": [
       "<div>\n",
       "<style scoped>\n",
       "    .dataframe tbody tr th:only-of-type {\n",
       "        vertical-align: middle;\n",
       "    }\n",
       "\n",
       "    .dataframe tbody tr th {\n",
       "        vertical-align: top;\n",
       "    }\n",
       "\n",
       "    .dataframe thead th {\n",
       "        text-align: right;\n",
       "    }\n",
       "</style>\n",
       "<table border=\"1\" class=\"dataframe\">\n",
       "  <thead>\n",
       "    <tr style=\"text-align: right;\">\n",
       "      <th></th>\n",
       "      <th>rating</th>\n",
       "      <th>reviewText</th>\n",
       "    </tr>\n",
       "  </thead>\n",
       "  <tbody>\n",
       "    <tr>\n",
       "      <th>0</th>\n",
       "      <td>0</td>\n",
       "      <td>this book was the very first bookmobile book i...</td>\n",
       "    </tr>\n",
       "    <tr>\n",
       "      <th>1</th>\n",
       "      <td>1</td>\n",
       "      <td>when i read the description for this book, i c...</td>\n",
       "    </tr>\n",
       "    <tr>\n",
       "      <th>2</th>\n",
       "      <td>0</td>\n",
       "      <td>i just had to edit this review. this book is a...</td>\n",
       "    </tr>\n",
       "    <tr>\n",
       "      <th>3</th>\n",
       "      <td>0</td>\n",
       "      <td>i don't normally buy 'mystery' novels because ...</td>\n",
       "    </tr>\n",
       "    <tr>\n",
       "      <th>4</th>\n",
       "      <td>0</td>\n",
       "      <td>this isn't the kind of book i normally read, a...</td>\n",
       "    </tr>\n",
       "  </tbody>\n",
       "</table>\n",
       "</div>"
      ],
      "text/plain": [
       "   rating                                         reviewText\n",
       "0       0  this book was the very first bookmobile book i...\n",
       "1       1  when i read the description for this book, i c...\n",
       "2       0  i just had to edit this review. this book is a...\n",
       "3       0  i don't normally buy 'mystery' novels because ...\n",
       "4       0  this isn't the kind of book i normally read, a..."
      ]
     },
     "execution_count": 15,
     "metadata": {},
     "output_type": "execute_result"
    }
   ],
   "source": [
    "# lowering the text of the review\n",
    "\n",
    "data[\"reviewText\"] = data[\"reviewText\"].str.lower()\n",
    "data.head()"
   ]
  },
  {
   "cell_type": "code",
   "execution_count": 16,
   "id": "1e0424aa",
   "metadata": {
    "execution": {
     "iopub.execute_input": "2022-03-20T07:58:30.256915Z",
     "iopub.status.busy": "2022-03-20T07:58:30.255910Z",
     "iopub.status.idle": "2022-03-20T07:58:30.353164Z",
     "shell.execute_reply": "2022-03-20T07:58:30.353820Z",
     "shell.execute_reply.started": "2022-03-20T07:14:39.007674Z"
    },
    "papermill": {
     "duration": 0.175173,
     "end_time": "2022-03-20T07:58:30.354004",
     "exception": false,
     "start_time": "2022-03-20T07:58:30.178831",
     "status": "completed"
    },
    "tags": []
   },
   "outputs": [
    {
     "data": {
      "text/html": [
       "<div>\n",
       "<style scoped>\n",
       "    .dataframe tbody tr th:only-of-type {\n",
       "        vertical-align: middle;\n",
       "    }\n",
       "\n",
       "    .dataframe tbody tr th {\n",
       "        vertical-align: top;\n",
       "    }\n",
       "\n",
       "    .dataframe thead th {\n",
       "        text-align: right;\n",
       "    }\n",
       "</style>\n",
       "<table border=\"1\" class=\"dataframe\">\n",
       "  <thead>\n",
       "    <tr style=\"text-align: right;\">\n",
       "      <th></th>\n",
       "      <th>rating</th>\n",
       "      <th>reviewText</th>\n",
       "    </tr>\n",
       "  </thead>\n",
       "  <tbody>\n",
       "    <tr>\n",
       "      <th>0</th>\n",
       "      <td>0</td>\n",
       "      <td>this book was the very first bookmobile book i...</td>\n",
       "    </tr>\n",
       "    <tr>\n",
       "      <th>1</th>\n",
       "      <td>1</td>\n",
       "      <td>when i read the description for this book i co...</td>\n",
       "    </tr>\n",
       "    <tr>\n",
       "      <th>2</th>\n",
       "      <td>0</td>\n",
       "      <td>i just had to edit this review this book is an...</td>\n",
       "    </tr>\n",
       "    <tr>\n",
       "      <th>3</th>\n",
       "      <td>0</td>\n",
       "      <td>i dont normally buy mystery novels because i j...</td>\n",
       "    </tr>\n",
       "    <tr>\n",
       "      <th>4</th>\n",
       "      <td>0</td>\n",
       "      <td>this isnt the kind of book i normally read alt...</td>\n",
       "    </tr>\n",
       "  </tbody>\n",
       "</table>\n",
       "</div>"
      ],
      "text/plain": [
       "   rating                                         reviewText\n",
       "0       0  this book was the very first bookmobile book i...\n",
       "1       1  when i read the description for this book i co...\n",
       "2       0  i just had to edit this review this book is an...\n",
       "3       0  i dont normally buy mystery novels because i j...\n",
       "4       0  this isnt the kind of book i normally read alt..."
      ]
     },
     "execution_count": 16,
     "metadata": {},
     "output_type": "execute_result"
    }
   ],
   "source": [
    "# removing punctuation\n",
    "\n",
    "PUNCT_TO_REMOVE = string.punctuation\n",
    "def remove_punctuation(text):\n",
    "    \"\"\"custom function to remove the punctuation\"\"\"\n",
    "    return text.translate(str.maketrans('', '', PUNCT_TO_REMOVE))\n",
    "\n",
    "data[\"reviewText\"] = data[\"reviewText\"].apply(lambda text: remove_punctuation(text))\n",
    "data.head()"
   ]
  },
  {
   "cell_type": "code",
   "execution_count": 17,
   "id": "2ed1f3c4",
   "metadata": {
    "execution": {
     "iopub.execute_input": "2022-03-20T07:58:30.498134Z",
     "iopub.status.busy": "2022-03-20T07:58:30.497103Z",
     "iopub.status.idle": "2022-03-20T07:58:30.797752Z",
     "shell.execute_reply": "2022-03-20T07:58:30.798351Z",
     "shell.execute_reply.started": "2022-03-20T07:14:39.108919Z"
    },
    "papermill": {
     "duration": 0.37584,
     "end_time": "2022-03-20T07:58:30.798525",
     "exception": false,
     "start_time": "2022-03-20T07:58:30.422685",
     "status": "completed"
    },
    "tags": []
   },
   "outputs": [
    {
     "data": {
      "text/html": [
       "<div>\n",
       "<style scoped>\n",
       "    .dataframe tbody tr th:only-of-type {\n",
       "        vertical-align: middle;\n",
       "    }\n",
       "\n",
       "    .dataframe tbody tr th {\n",
       "        vertical-align: top;\n",
       "    }\n",
       "\n",
       "    .dataframe thead th {\n",
       "        text-align: right;\n",
       "    }\n",
       "</style>\n",
       "<table border=\"1\" class=\"dataframe\">\n",
       "  <thead>\n",
       "    <tr style=\"text-align: right;\">\n",
       "      <th></th>\n",
       "      <th>rating</th>\n",
       "      <th>reviewText</th>\n",
       "    </tr>\n",
       "  </thead>\n",
       "  <tbody>\n",
       "    <tr>\n",
       "      <th>0</th>\n",
       "      <td>0</td>\n",
       "      <td>book first bookmobile book bought school book ...</td>\n",
       "    </tr>\n",
       "    <tr>\n",
       "      <th>1</th>\n",
       "      <td>1</td>\n",
       "      <td>read description book couldnt wait read downlo...</td>\n",
       "    </tr>\n",
       "    <tr>\n",
       "      <th>2</th>\n",
       "      <td>0</td>\n",
       "      <td>edit review book believe got right updated rew...</td>\n",
       "    </tr>\n",
       "    <tr>\n",
       "      <th>3</th>\n",
       "      <td>0</td>\n",
       "      <td>dont normally buy mystery novels dont like how...</td>\n",
       "    </tr>\n",
       "    <tr>\n",
       "      <th>4</th>\n",
       "      <td>0</td>\n",
       "      <td>isnt kind book normally read although try limi...</td>\n",
       "    </tr>\n",
       "  </tbody>\n",
       "</table>\n",
       "</div>"
      ],
      "text/plain": [
       "   rating                                         reviewText\n",
       "0       0  book first bookmobile book bought school book ...\n",
       "1       1  read description book couldnt wait read downlo...\n",
       "2       0  edit review book believe got right updated rew...\n",
       "3       0  dont normally buy mystery novels dont like how...\n",
       "4       0  isnt kind book normally read although try limi..."
      ]
     },
     "execution_count": 17,
     "metadata": {},
     "output_type": "execute_result"
    }
   ],
   "source": [
    "#removing stop words from the dataset\n",
    "\n",
    "STOPWORDS = set(stopwords.words('english'))\n",
    "def remove_stopwords(text):\n",
    "    \"\"\"custom function to remove the stopwords\"\"\"\n",
    "    return \" \".join([word for word in str(text).split() if word not in STOPWORDS])\n",
    "\n",
    "data[\"reviewText\"] = data[\"reviewText\"].apply(lambda text: remove_stopwords(text))\n",
    "data.head()"
   ]
  },
  {
   "cell_type": "code",
   "execution_count": 18,
   "id": "6b0687b2",
   "metadata": {
    "execution": {
     "iopub.execute_input": "2022-03-20T07:58:30.947158Z",
     "iopub.status.busy": "2022-03-20T07:58:30.946385Z",
     "iopub.status.idle": "2022-03-20T07:59:30.140712Z",
     "shell.execute_reply": "2022-03-20T07:59:30.141219Z",
     "shell.execute_reply.started": "2022-03-20T07:14:39.402716Z"
    },
    "papermill": {
     "duration": 59.270035,
     "end_time": "2022-03-20T07:59:30.141398",
     "exception": false,
     "start_time": "2022-03-20T07:58:30.871363",
     "status": "completed"
    },
    "tags": []
   },
   "outputs": [
    {
     "data": {
      "text/html": [
       "<div>\n",
       "<style scoped>\n",
       "    .dataframe tbody tr th:only-of-type {\n",
       "        vertical-align: middle;\n",
       "    }\n",
       "\n",
       "    .dataframe tbody tr th {\n",
       "        vertical-align: top;\n",
       "    }\n",
       "\n",
       "    .dataframe thead th {\n",
       "        text-align: right;\n",
       "    }\n",
       "</style>\n",
       "<table border=\"1\" class=\"dataframe\">\n",
       "  <thead>\n",
       "    <tr style=\"text-align: right;\">\n",
       "      <th></th>\n",
       "      <th>rating</th>\n",
       "      <th>reviewText</th>\n",
       "    </tr>\n",
       "  </thead>\n",
       "  <tbody>\n",
       "    <tr>\n",
       "      <th>0</th>\n",
       "      <td>0</td>\n",
       "      <td>book first bookmobile book buy school book clu...</td>\n",
       "    </tr>\n",
       "    <tr>\n",
       "      <th>1</th>\n",
       "      <td>1</td>\n",
       "      <td>read description book couldnt wait read downlo...</td>\n",
       "    </tr>\n",
       "    <tr>\n",
       "      <th>2</th>\n",
       "      <td>0</td>\n",
       "      <td>edit review book believe get right update rewr...</td>\n",
       "    </tr>\n",
       "    <tr>\n",
       "      <th>3</th>\n",
       "      <td>0</td>\n",
       "      <td>dont normally buy mystery novels dont like how...</td>\n",
       "    </tr>\n",
       "    <tr>\n",
       "      <th>4</th>\n",
       "      <td>0</td>\n",
       "      <td>isnt kind book normally read although try limi...</td>\n",
       "    </tr>\n",
       "  </tbody>\n",
       "</table>\n",
       "</div>"
      ],
      "text/plain": [
       "   rating                                         reviewText\n",
       "0       0  book first bookmobile book buy school book clu...\n",
       "1       1  read description book couldnt wait read downlo...\n",
       "2       0  edit review book believe get right update rewr...\n",
       "3       0  dont normally buy mystery novels dont like how...\n",
       "4       0  isnt kind book normally read although try limi..."
      ]
     },
     "execution_count": 18,
     "metadata": {},
     "output_type": "execute_result"
    }
   ],
   "source": [
    "lemmatizer = WordNetLemmatizer()\n",
    "wordnet_map = {\"N\":wordnet.NOUN, \"V\":wordnet.VERB, \"J\":wordnet.ADJ, \"R\":wordnet.ADV}\n",
    "def lemmatize_words(text):\n",
    "    pos_tagged_text = nltk.pos_tag(text.split())\n",
    "    return \" \".join([lemmatizer.lemmatize(word, wordnet_map.get(pos[0], wordnet.NOUN)) for word, pos in pos_tagged_text])\n",
    "\n",
    "data[\"reviewText\"] = data[\"reviewText\"].apply(lambda text: lemmatize_words(text))\n",
    "data.head()"
   ]
  },
  {
   "cell_type": "markdown",
   "id": "ce1e2619",
   "metadata": {
    "papermill": {
     "duration": 0.071659,
     "end_time": "2022-03-20T07:59:30.286318",
     "exception": false,
     "start_time": "2022-03-20T07:59:30.214659",
     "status": "completed"
    },
    "tags": []
   },
   "source": [
    "# Visualization on Dataset"
   ]
  },
  {
   "cell_type": "code",
   "execution_count": 19,
   "id": "f0a583d8",
   "metadata": {
    "execution": {
     "iopub.execute_input": "2022-03-20T07:59:30.439082Z",
     "iopub.status.busy": "2022-03-20T07:59:30.438329Z",
     "iopub.status.idle": "2022-03-20T07:59:30.625676Z",
     "shell.execute_reply": "2022-03-20T07:59:30.625064Z",
     "shell.execute_reply.started": "2022-03-20T07:15:36.728832Z"
    },
    "papermill": {
     "duration": 0.265264,
     "end_time": "2022-03-20T07:59:30.625836",
     "exception": false,
     "start_time": "2022-03-20T07:59:30.360572",
     "status": "completed"
    },
    "tags": []
   },
   "outputs": [
    {
     "data": {
      "image/png": "[encoded data removed]",
      "text/plain": [
       "<Figure size 432x288 with 1 Axes>"
      ]
     },
     "metadata": {
      "needs_background": "light"
     },
     "output_type": "display_data"
    }
   ],
   "source": [
    "# PLotting Rating histogram\n",
    "\n",
    "data.rating.hist()\n",
    "plt.title(\"Distribution of rating using Matplotlib\")\n",
    "plt.show()"
   ]
  },
  {
   "cell_type": "code",
   "execution_count": 20,
   "id": "cbefa21a",
   "metadata": {
    "execution": {
     "iopub.execute_input": "2022-03-20T07:59:30.785363Z",
     "iopub.status.busy": "2022-03-20T07:59:30.784461Z",
     "iopub.status.idle": "2022-03-20T07:59:30.787983Z",
     "shell.execute_reply": "2022-03-20T07:59:30.788463Z",
     "shell.execute_reply.started": "2022-03-20T07:24:02.98091Z"
    },
    "papermill": {
     "duration": 0.087082,
     "end_time": "2022-03-20T07:59:30.788630",
     "exception": false,
     "start_time": "2022-03-20T07:59:30.701548",
     "status": "completed"
    },
    "tags": []
   },
   "outputs": [
    {
     "data": {
      "text/html": [
       "<div>                            <div id=\"8c573d2d-0171-4d6a-923b-09e3959fde3d\" class=\"plotly-graph-div\" style=\"height:525px; width:100%;\"></div>            <script type=\"text/javascript\">                require([\"plotly\"], function(Plotly) {                    window.PLOTLYENV=window.PLOTLYENV || {};                                    if (document.getElementById(\"8c573d2d-0171-4d6a-923b-09e3959fde3d\")) {                    Plotly.newPlot(                        \"8c573d2d-0171-4d6a-923b-09e3959fde3d\",                        [{\"text\":[8000.0,4000.0],\"x\":[0,1],\"y\":[8000,4000],\"type\":\"bar\"}],                        {\"template\":{\"data\":{\"bar\":[{\"error_x\":{\"color\":\"#2a3f5f\"},\"error_y\":{\"color\":\"#2a3f5f\"},\"marker\":{\"line\":{\"color\":\"#E5ECF6\",\"width\":0.5},\"pattern\":{\"fillmode\":\"overlay\",\"size\":10,\"solidity\":0.2}},\"type\":\"bar\"}],\"barpolar\":[{\"marker\":{\"line\":{\"color\":\"#E5ECF6\",\"width\":0.5},\"pattern\":{\"fillmode\":\"overlay\",\"size\":10,\"solidity\":0.2}},\"type\":\"barpolar\"}],\"carpet\":[{\"aaxis\":{\"endlinecolor\":\"#2a3f5f\",\"gridcolor\":\"white\",\"linecolor\":\"white\",\"minorgridcolor\":\"white\",\"startlinecolor\":\"#2a3f5f\"},\"baxis\":{\"endlinecolor\":\"#2a3f5f\",\"gridcolor\":\"white\",\"linecolor\":\"white\",\"minorgridcolor\":\"white\",\"startlinecolor\":\"#2a3f5f\"},\"type\":\"carpet\"}],\"choropleth\":[{\"colorbar\":{\"outlinewidth\":0,\"ticks\":\"\"},\"type\":\"choropleth\"}],\"contour\":[{\"colorbar\":{\"outlinewidth\":0,\"ticks\":\"\"},\"colorscale\":[[0.0,\"#0d0887\"],[0.1111111111111111,\"#46039f\"],[0.2222222222222222,\"#7201a8\"],[0.3333333333333333,\"#9c179e\"],[0.4444444444444444,\"#bd3786\"],[0.5555555555555556,\"#d8576b\"],[0.6666666666666666,\"#ed7953\"],[0.7777777777777778,\"#fb9f3a\"],[0.8888888888888888,\"#fdca26\"],[1.0,\"#f0f921\"]],\"type\":\"contour\"}],\"contourcarpet\":[{\"colorbar\":{\"outlinewidth\":0,\"ticks\":\"\"},\"type\":\"contourcarpet\"}],\"heatmap\":[{\"colorbar\":{\"outlinewidth\":0,\"ticks\":\"\"},\"colorscale\":[[0.0,\"#0d0887\"],[0.1111111111111111,\"#46039f\"],[0.2222222222222222,\"#7201a8\"],[0.3333333333333333,\"#9c179e\"],[0.4444444444444444,\"#bd3786\"],[0.5555555555555556,\"#d8576b\"],[0.6666666666666666,\"#ed7953\"],[0.7777777777777778,\"#fb9f3a\"],[0.8888888888888888,\"#fdca26\"],[1.0,\"#f0f921\"]],\"type\":\"heatmap\"}],\"heatmapgl\":[{\"colorbar\":{\"outlinewidth\":0,\"ticks\":\"\"},\"colorscale\":[[0.0,\"#0d0887\"],[0.1111111111111111,\"#46039f\"],[0.2222222222222222,\"#7201a8\"],[0.3333333333333333,\"#9c179e\"],[0.4444444444444444,\"#bd3786\"],[0.5555555555555556,\"#d8576b\"],[0.6666666666666666,\"#ed7953\"],[0.7777777777777778,\"#fb9f3a\"],[0.8888888888888888,\"#fdca26\"],[1.0,\"#f0f921\"]],\"type\":\"heatmapgl\"}],\"histogram\":[{\"marker\":{\"pattern\":{\"fillmode\":\"overlay\",\"size\":10,\"solidity\":0.2}},\"type\":\"histogram\"}],\"histogram2d\":[{\"colorbar\":{\"outlinewidth\":0,\"ticks\":\"\"},\"colorscale\":[[0.0,\"#0d0887\"],[0.1111111111111111,\"#46039f\"],[0.2222222222222222,\"#7201a8\"],[0.3333333333333333,\"#9c179e\"],[0.4444444444444444,\"#bd3786\"],[0.5555555555555556,\"#d8576b\"],[0.6666666666666666,\"#ed7953\"],[0.7777777777777778,\"#fb9f3a\"],[0.8888888888888888,\"#fdca26\"],[1.0,\"#f0f921\"]],\"type\":\"histogram2d\"}],\"histogram2dcontour\":[{\"colorbar\":{\"outlinewidth\":0,\"ticks\":\"\"},\"colorscale\":[[0.0,\"#0d0887\"],[0.1111111111111111,\"#46039f\"],[0.2222222222222222,\"#7201a8\"],[0.3333333333333333,\"#9c179e\"],[0.4444444444444444,\"#bd3786\"],[0.5555555555555556,\"#d8576b\"],[0.6666666666666666,\"#ed7953\"],[0.7777777777777778,\"#fb9f3a\"],[0.8888888888888888,\"#fdca26\"],[1.0,\"#f0f921\"]],\"type\":\"histogram2dcontour\"}],\"mesh3d\":[{\"colorbar\":{\"outlinewidth\":0,\"ticks\":\"\"},\"type\":\"mesh3d\"}],\"parcoords\":[{\"line\":{\"colorbar\":{\"outlinewidth\":0,\"ticks\":\"\"}},\"type\":\"parcoords\"}],\"pie\":[{\"automargin\":true,\"type\":\"pie\"}],\"scatter\":[{\"marker\":{\"colorbar\":{\"outlinewidth\":0,\"ticks\":\"\"}},\"type\":\"scatter\"}],\"scatter3d\":[{\"line\":{\"colorbar\":{\"outlinewidth\":0,\"ticks\":\"\"}},\"marker\":{\"colorbar\":{\"outlinewidth\":0,\"ticks\":\"\"}},\"type\":\"scatter3d\"}],\"scattercarpet\":[{\"marker\":{\"colorbar\":{\"outlinewidth\":0,\"ticks\":\"\"}},\"type\":\"scattercarpet\"}],\"scattergeo\":[{\"marker\":{\"colorbar\":{\"outlinewidth\":0,\"ticks\":\"\"}},\"type\":\"scattergeo\"}],\"scattergl\":[{\"marker\":{\"colorbar\":{\"outlinewidth\":0,\"ticks\":\"\"}},\"type\":\"scattergl\"}],\"scattermapbox\":[{\"marker\":{\"colorbar\":{\"outlinewidth\":0,\"ticks\":\"\"}},\"type\":\"scattermapbox\"}],\"scatterpolar\":[{\"marker\":{\"colorbar\":{\"outlinewidth\":0,\"ticks\":\"\"}},\"type\":\"scatterpolar\"}],\"scatterpolargl\":[{\"marker\":{\"colorbar\":{\"outlinewidth\":0,\"ticks\":\"\"}},\"type\":\"scatterpolargl\"}],\"scatterternary\":[{\"marker\":{\"colorbar\":{\"outlinewidth\":0,\"ticks\":\"\"}},\"type\":\"scatterternary\"}],\"surface\":[{\"colorbar\":{\"outlinewidth\":0,\"ticks\":\"\"},\"colorscale\":[[0.0,\"#0d0887\"],[0.1111111111111111,\"#46039f\"],[0.2222222222222222,\"#7201a8\"],[0.3333333333333333,\"#9c179e\"],[0.4444444444444444,\"#bd3786\"],[0.5555555555555556,\"#d8576b\"],[0.6666666666666666,\"#ed7953\"],[0.7777777777777778,\"#fb9f3a\"],[0.8888888888888888,\"#fdca26\"],[1.0,\"#f0f921\"]],\"type\":\"surface\"}],\"table\":[{\"cells\":{\"fill\":{\"color\":\"#EBF0F8\"},\"line\":{\"color\":\"white\"}},\"header\":{\"fill\":{\"color\":\"#C8D4E3\"},\"line\":{\"color\":\"white\"}},\"type\":\"table\"}]},\"layout\":{\"annotationdefaults\":{\"arrowcolor\":\"#2a3f5f\",\"arrowhead\":0,\"arrowwidth\":1},\"autotypenumbers\":\"strict\",\"coloraxis\":{\"colorbar\":{\"outlinewidth\":0,\"ticks\":\"\"}},\"colorscale\":{\"diverging\":[[0,\"#8e0152\"],[0.1,\"#c51b7d\"],[0.2,\"#de77ae\"],[0.3,\"#f1b6da\"],[0.4,\"#fde0ef\"],[0.5,\"#f7f7f7\"],[0.6,\"#e6f5d0\"],[0.7,\"#b8e186\"],[0.8,\"#7fbc41\"],[0.9,\"#4d9221\"],[1,\"#276419\"]],\"sequential\":[[0.0,\"#0d0887\"],[0.1111111111111111,\"#46039f\"],[0.2222222222222222,\"#7201a8\"],[0.3333333333333333,\"#9c179e\"],[0.4444444444444444,\"#bd3786\"],[0.5555555555555556,\"#d8576b\"],[0.6666666666666666,\"#ed7953\"],[0.7777777777777778,\"#fb9f3a\"],[0.8888888888888888,\"#fdca26\"],[1.0,\"#f0f921\"]],\"sequentialminus\":[[0.0,\"#0d0887\"],[0.1111111111111111,\"#46039f\"],[0.2222222222222222,\"#7201a8\"],[0.3333333333333333,\"#9c179e\"],[0.4444444444444444,\"#bd3786\"],[0.5555555555555556,\"#d8576b\"],[0.6666666666666666,\"#ed7953\"],[0.7777777777777778,\"#fb9f3a\"],[0.8888888888888888,\"#fdca26\"],[1.0,\"#f0f921\"]]},\"colorway\":[\"#636efa\",\"#EF553B\",\"#00cc96\",\"#ab63fa\",\"#FFA15A\",\"#19d3f3\",\"#FF6692\",\"#B6E880\",\"#FF97FF\",\"#FECB52\"],\"font\":{\"color\":\"#2a3f5f\"},\"geo\":{\"bgcolor\":\"white\",\"lakecolor\":\"white\",\"landcolor\":\"#E5ECF6\",\"showlakes\":true,\"showland\":true,\"subunitcolor\":\"white\"},\"hoverlabel\":{\"align\":\"left\"},\"hovermode\":\"closest\",\"mapbox\":{\"style\":\"light\"},\"paper_bgcolor\":\"white\",\"plot_bgcolor\":\"#E5ECF6\",\"polar\":{\"angularaxis\":{\"gridcolor\":\"white\",\"linecolor\":\"white\",\"ticks\":\"\"},\"bgcolor\":\"#E5ECF6\",\"radialaxis\":{\"gridcolor\":\"white\",\"linecolor\":\"white\",\"ticks\":\"\"}},\"scene\":{\"xaxis\":{\"backgroundcolor\":\"#E5ECF6\",\"gridcolor\":\"white\",\"gridwidth\":2,\"linecolor\":\"white\",\"showbackground\":true,\"ticks\":\"\",\"zerolinecolor\":\"white\"},\"yaxis\":{\"backgroundcolor\":\"#E5ECF6\",\"gridcolor\":\"white\",\"gridwidth\":2,\"linecolor\":\"white\",\"showbackground\":true,\"ticks\":\"\",\"zerolinecolor\":\"white\"},\"zaxis\":{\"backgroundcolor\":\"#E5ECF6\",\"gridcolor\":\"white\",\"gridwidth\":2,\"linecolor\":\"white\",\"showbackground\":true,\"ticks\":\"\",\"zerolinecolor\":\"white\"}},\"shapedefaults\":{\"line\":{\"color\":\"#2a3f5f\"}},\"ternary\":{\"aaxis\":{\"gridcolor\":\"white\",\"linecolor\":\"white\",\"ticks\":\"\"},\"baxis\":{\"gridcolor\":\"white\",\"linecolor\":\"white\",\"ticks\":\"\"},\"bgcolor\":\"#E5ECF6\",\"caxis\":{\"gridcolor\":\"white\",\"linecolor\":\"white\",\"ticks\":\"\"}},\"title\":{\"x\":0.05},\"xaxis\":{\"automargin\":true,\"gridcolor\":\"white\",\"linecolor\":\"white\",\"ticks\":\"\",\"title\":{\"standoff\":15},\"zerolinecolor\":\"white\",\"zerolinewidth\":2},\"yaxis\":{\"automargin\":true,\"gridcolor\":\"white\",\"linecolor\":\"white\",\"ticks\":\"\",\"title\":{\"standoff\":15},\"zerolinecolor\":\"white\",\"zerolinewidth\":2}}},\"title\":{\"text\":\"Distribution of the Rating using ploty\"}},                        {\"responsive\": true}                    ).then(function(){\n",
       "                            \n",
       "var gd = document.getElementById('8c573d2d-0171-4d6a-923b-09e3959fde3d');\n",
       "var x = new MutationObserver(function (mutations, observer) {{\n",
       "        var display = window.getComputedStyle(gd).display;\n",
       "        if (!display || display === 'none') {{\n",
       "            console.log([gd, 'removed!']);\n",
       "            Plotly.purge(gd);\n",
       "            observer.disconnect();\n",
       "        }}\n",
       "}});\n",
       "\n",
       "// Listen for the removal of the full notebook cells\n",
       "var notebookContainer = gd.closest('#notebook-container');\n",
       "if (notebookContainer) {{\n",
       "    x.observe(notebookContainer, {childList: true});\n",
       "}}\n",
       "\n",
       "// Listen for the clearing of the current output cell\n",
       "var outputEl = gd.closest('.output');\n",
       "if (outputEl) {{\n",
       "    x.observe(outputEl, {childList: true});\n",
       "}}\n",
       "\n",
       "                        })                };                });            </script>        </div>"
      ]
     },
     "metadata": {},
     "output_type": "display_data"
    }
   ],
   "source": [
    "# PLotting Rating using ploty\n",
    "a  = data.rating.value_counts()\n",
    "fig = go.Figure([go.Bar(x=a.index, y=a.values,text=a.values)])\n",
    "fig.update_layout(title='Distribution of the Rating using ploty')\n",
    "fig.show()"
   ]
  },
  {
   "cell_type": "markdown",
   "id": "b4c75048",
   "metadata": {
    "papermill": {
     "duration": 0.075137,
     "end_time": "2022-03-20T07:59:30.939413",
     "exception": false,
     "start_time": "2022-03-20T07:59:30.864276",
     "status": "completed"
    },
    "tags": []
   },
   "source": [
    "- Plotting word cloud"
   ]
  },
  {
   "cell_type": "code",
   "execution_count": 21,
   "id": "557469b7",
   "metadata": {
    "_kg_hide-input": true,
    "execution": {
     "iopub.execute_input": "2022-03-20T07:59:31.108689Z",
     "iopub.status.busy": "2022-03-20T07:59:31.103757Z",
     "iopub.status.idle": "2022-03-20T07:59:31.572476Z",
     "shell.execute_reply": "2022-03-20T07:59:31.571651Z",
     "shell.execute_reply.started": "2022-03-20T07:15:36.977224Z"
    },
    "papermill": {
     "duration": 0.5564,
     "end_time": "2022-03-20T07:59:31.572648",
     "exception": false,
     "start_time": "2022-03-20T07:59:31.016248",
     "status": "completed"
    },
    "tags": []
   },
   "outputs": [],
   "source": [
    "text = \" \".join(cat.split()[0] for cat in data.reviewText)\n",
    "word_cloud = WordCloud(collocations = False, background_color = 'white').generate(text)"
   ]
  },
  {
   "cell_type": "code",
   "execution_count": 22,
   "id": "8d350b65",
   "metadata": {
    "execution": {
     "iopub.execute_input": "2022-03-20T07:59:31.730517Z",
     "iopub.status.busy": "2022-03-20T07:59:31.729831Z",
     "iopub.status.idle": "2022-03-20T07:59:31.961669Z",
     "shell.execute_reply": "2022-03-20T07:59:31.962551Z",
     "shell.execute_reply.started": "2022-03-20T07:15:37.432999Z"
    },
    "papermill": {
     "duration": 0.313714,
     "end_time": "2022-03-20T07:59:31.962869",
     "exception": false,
     "start_time": "2022-03-20T07:59:31.649155",
     "status": "completed"
    },
    "tags": []
   },
   "outputs": [
    {
     "data": {
      "image/png": "[encoded data removed]",
      "text/plain": [
       "<Figure size 432x288 with 1 Axes>"
      ]
     },
     "metadata": {
      "needs_background": "light"
     },
     "output_type": "display_data"
    }
   ],
   "source": [
    "plt.imshow(word_cloud, interpolation='bilinear')\n",
    "plt.axis(\"off\")\n",
    "plt.show()"
   ]
  },
  {
   "cell_type": "code",
   "execution_count": 23,
   "id": "dbb05334",
   "metadata": {
    "execution": {
     "iopub.execute_input": "2022-03-20T07:59:32.150866Z",
     "iopub.status.busy": "2022-03-20T07:59:32.150174Z",
     "iopub.status.idle": "2022-03-20T07:59:32.490596Z",
     "shell.execute_reply": "2022-03-20T07:59:32.489917Z",
     "shell.execute_reply.started": "2022-03-20T07:15:37.659789Z"
    },
    "papermill": {
     "duration": 0.429166,
     "end_time": "2022-03-20T07:59:32.490756",
     "exception": false,
     "start_time": "2022-03-20T07:59:32.061590",
     "status": "completed"
    },
    "tags": []
   },
   "outputs": [
    {
     "data": {
      "text/plain": [
       "[('book', 15397),\n",
       " ('story', 11027),\n",
       " ('read', 10023),\n",
       " ('like', 6207),\n",
       " ('one', 5949),\n",
       " ('character', 5677),\n",
       " ('get', 5453),\n",
       " ('love', 5059),\n",
       " ('good', 4763),\n",
       " ('would', 4093)]"
      ]
     },
     "execution_count": 23,
     "metadata": {},
     "output_type": "execute_result"
    }
   ],
   "source": [
    "from collections import Counter\n",
    "cnt = Counter()\n",
    "for text in data[\"reviewText\"].values:\n",
    "    for word in text.split():\n",
    "        cnt[word] += 1\n",
    "        \n",
    "cnt.most_common(10)"
   ]
  },
  {
   "cell_type": "code",
   "execution_count": 24,
   "id": "492f2acd",
   "metadata": {
    "execution": {
     "iopub.execute_input": "2022-03-20T07:59:32.649375Z",
     "iopub.status.busy": "2022-03-20T07:59:32.648737Z",
     "iopub.status.idle": "2022-03-20T07:59:32.651828Z",
     "shell.execute_reply": "2022-03-20T07:59:32.652296Z",
     "shell.execute_reply.started": "2022-03-20T07:15:38.02384Z"
    },
    "papermill": {
     "duration": 0.08348,
     "end_time": "2022-03-20T07:59:32.652482",
     "exception": false,
     "start_time": "2022-03-20T07:59:32.569002",
     "status": "completed"
    },
    "tags": []
   },
   "outputs": [
    {
     "data": {
      "text/plain": [
       "15397"
      ]
     },
     "execution_count": 24,
     "metadata": {},
     "output_type": "execute_result"
    }
   ],
   "source": [
    "cnt.get(\"book\")"
   ]
  },
  {
   "cell_type": "code",
   "execution_count": 25,
   "id": "13768f78",
   "metadata": {
    "execution": {
     "iopub.execute_input": "2022-03-20T07:59:32.812814Z",
     "iopub.status.busy": "2022-03-20T07:59:32.812135Z",
     "iopub.status.idle": "2022-03-20T07:59:32.825054Z",
     "shell.execute_reply": "2022-03-20T07:59:32.824452Z",
     "shell.execute_reply.started": "2022-03-20T07:15:38.031806Z"
    },
    "papermill": {
     "duration": 0.095765,
     "end_time": "2022-03-20T07:59:32.825213",
     "exception": false,
     "start_time": "2022-03-20T07:59:32.729448",
     "status": "completed"
    },
    "tags": []
   },
   "outputs": [],
   "source": [
    "cn = cnt.most_common(10)\n",
    "w = []\n",
    "c = []"
   ]
  },
  {
   "cell_type": "code",
   "execution_count": 26,
   "id": "c9735e23",
   "metadata": {
    "execution": {
     "iopub.execute_input": "2022-03-20T07:59:32.992488Z",
     "iopub.status.busy": "2022-03-20T07:59:32.991815Z",
     "iopub.status.idle": "2022-03-20T07:59:32.995738Z",
     "shell.execute_reply": "2022-03-20T07:59:32.995186Z",
     "shell.execute_reply.started": "2022-03-20T07:15:38.055676Z"
    },
    "papermill": {
     "duration": 0.090134,
     "end_time": "2022-03-20T07:59:32.995891",
     "exception": false,
     "start_time": "2022-03-20T07:59:32.905757",
     "status": "completed"
    },
    "tags": []
   },
   "outputs": [],
   "source": [
    "for i in cn:\n",
    "    w.append(i[0])\n",
    "    c.append(i[1])"
   ]
  },
  {
   "cell_type": "markdown",
   "id": "dd62712c",
   "metadata": {
    "papermill": {
     "duration": 0.080133,
     "end_time": "2022-03-20T07:59:33.153921",
     "exception": false,
     "start_time": "2022-03-20T07:59:33.073788",
     "status": "completed"
    },
    "tags": []
   },
   "source": [
    "- Pie chart for Most Frequent Words"
   ]
  },
  {
   "cell_type": "code",
   "execution_count": 27,
   "id": "aac2c0cb",
   "metadata": {
    "execution": {
     "iopub.execute_input": "2022-03-20T07:59:33.318918Z",
     "iopub.status.busy": "2022-03-20T07:59:33.318238Z",
     "iopub.status.idle": "2022-03-20T07:59:34.432686Z",
     "shell.execute_reply": "2022-03-20T07:59:34.432057Z",
     "shell.execute_reply.started": "2022-03-20T07:15:38.072739Z"
    },
    "papermill": {
     "duration": 1.19994,
     "end_time": "2022-03-20T07:59:34.432874",
     "exception": false,
     "start_time": "2022-03-20T07:59:33.232934",
     "status": "completed"
    },
    "tags": []
   },
   "outputs": [
    {
     "data": {
      "text/html": [
       "<div>                            <div id=\"e6ae55ea-b1e2-4f96-b9c1-8650d8b81250\" class=\"plotly-graph-div\" style=\"height:525px; width:100%;\"></div>            <script type=\"text/javascript\">                require([\"plotly\"], function(Plotly) {                    window.PLOTLYENV=window.PLOTLYENV || {};                                    if (document.getElementById(\"e6ae55ea-b1e2-4f96-b9c1-8650d8b81250\")) {                    Plotly.newPlot(                        \"e6ae55ea-b1e2-4f96-b9c1-8650d8b81250\",                        [{\"domain\":{\"x\":[0.0,1.0],\"y\":[0.0,1.0]},\"hovertemplate\":\"label=%{label}<br>value=%{value}<extra></extra>\",\"labels\":[\"book\",\"story\",\"read\",\"like\",\"one\",\"character\",\"get\",\"love\",\"good\",\"would\"],\"legendgroup\":\"\",\"name\":\"\",\"showlegend\":true,\"values\":[15397,11027,10023,6207,5949,5677,5453,5059,4763,4093],\"type\":\"pie\",\"textinfo\":\"percent+label\",\"textposition\":\"inside\"}],                        {\"template\":{\"data\":{\"bar\":[{\"error_x\":{\"color\":\"#2a3f5f\"},\"error_y\":{\"color\":\"#2a3f5f\"},\"marker\":{\"line\":{\"color\":\"#E5ECF6\",\"width\":0.5},\"pattern\":{\"fillmode\":\"overlay\",\"size\":10,\"solidity\":0.2}},\"type\":\"bar\"}],\"barpolar\":[{\"marker\":{\"line\":{\"color\":\"#E5ECF6\",\"width\":0.5},\"pattern\":{\"fillmode\":\"overlay\",\"size\":10,\"solidity\":0.2}},\"type\":\"barpolar\"}],\"carpet\":[{\"aaxis\":{\"endlinecolor\":\"#2a3f5f\",\"gridcolor\":\"white\",\"linecolor\":\"white\",\"minorgridcolor\":\"white\",\"startlinecolor\":\"#2a3f5f\"},\"baxis\":{\"endlinecolor\":\"#2a3f5f\",\"gridcolor\":\"white\",\"linecolor\":\"white\",\"minorgridcolor\":\"white\",\"startlinecolor\":\"#2a3f5f\"},\"type\":\"carpet\"}],\"choropleth\":[{\"colorbar\":{\"outlinewidth\":0,\"ticks\":\"\"},\"type\":\"choropleth\"}],\"contour\":[{\"colorbar\":{\"outlinewidth\":0,\"ticks\":\"\"},\"colorscale\":[[0.0,\"#0d0887\"],[0.1111111111111111,\"#46039f\"],[0.2222222222222222,\"#7201a8\"],[0.3333333333333333,\"#9c179e\"],[0.4444444444444444,\"#bd3786\"],[0.5555555555555556,\"#d8576b\"],[0.6666666666666666,\"#ed7953\"],[0.7777777777777778,\"#fb9f3a\"],[0.8888888888888888,\"#fdca26\"],[1.0,\"#f0f921\"]],\"type\":\"contour\"}],\"contourcarpet\":[{\"colorbar\":{\"outlinewidth\":0,\"ticks\":\"\"},\"type\":\"contourcarpet\"}],\"heatmap\":[{\"colorbar\":{\"outlinewidth\":0,\"ticks\":\"\"},\"colorscale\":[[0.0,\"#0d0887\"],[0.1111111111111111,\"#46039f\"],[0.2222222222222222,\"#7201a8\"],[0.3333333333333333,\"#9c179e\"],[0.4444444444444444,\"#bd3786\"],[0.5555555555555556,\"#d8576b\"],[0.6666666666666666,\"#ed7953\"],[0.7777777777777778,\"#fb9f3a\"],[0.8888888888888888,\"#fdca26\"],[1.0,\"#f0f921\"]],\"type\":\"heatmap\"}],\"heatmapgl\":[{\"colorbar\":{\"outlinewidth\":0,\"ticks\":\"\"},\"colorscale\":[[0.0,\"#0d0887\"],[0.1111111111111111,\"#46039f\"],[0.2222222222222222,\"#7201a8\"],[0.3333333333333333,\"#9c179e\"],[0.4444444444444444,\"#bd3786\"],[0.5555555555555556,\"#d8576b\"],[0.6666666666666666,\"#ed7953\"],[0.7777777777777778,\"#fb9f3a\"],[0.8888888888888888,\"#fdca26\"],[1.0,\"#f0f921\"]],\"type\":\"heatmapgl\"}],\"histogram\":[{\"marker\":{\"pattern\":{\"fillmode\":\"overlay\",\"size\":10,\"solidity\":0.2}},\"type\":\"histogram\"}],\"histogram2d\":[{\"colorbar\":{\"outlinewidth\":0,\"ticks\":\"\"},\"colorscale\":[[0.0,\"#0d0887\"],[0.1111111111111111,\"#46039f\"],[0.2222222222222222,\"#7201a8\"],[0.3333333333333333,\"#9c179e\"],[0.4444444444444444,\"#bd3786\"],[0.5555555555555556,\"#d8576b\"],[0.6666666666666666,\"#ed7953\"],[0.7777777777777778,\"#fb9f3a\"],[0.8888888888888888,\"#fdca26\"],[1.0,\"#f0f921\"]],\"type\":\"histogram2d\"}],\"histogram2dcontour\":[{\"colorbar\":{\"outlinewidth\":0,\"ticks\":\"\"},\"colorscale\":[[0.0,\"#0d0887\"],[0.1111111111111111,\"#46039f\"],[0.2222222222222222,\"#7201a8\"],[0.3333333333333333,\"#9c179e\"],[0.4444444444444444,\"#bd3786\"],[0.5555555555555556,\"#d8576b\"],[0.6666666666666666,\"#ed7953\"],[0.7777777777777778,\"#fb9f3a\"],[0.8888888888888888,\"#fdca26\"],[1.0,\"#f0f921\"]],\"type\":\"histogram2dcontour\"}],\"mesh3d\":[{\"colorbar\":{\"outlinewidth\":0,\"ticks\":\"\"},\"type\":\"mesh3d\"}],\"parcoords\":[{\"line\":{\"colorbar\":{\"outlinewidth\":0,\"ticks\":\"\"}},\"type\":\"parcoords\"}],\"pie\":[{\"automargin\":true,\"type\":\"pie\"}],\"scatter\":[{\"marker\":{\"colorbar\":{\"outlinewidth\":0,\"ticks\":\"\"}},\"type\":\"scatter\"}],\"scatter3d\":[{\"line\":{\"colorbar\":{\"outlinewidth\":0,\"ticks\":\"\"}},\"marker\":{\"colorbar\":{\"outlinewidth\":0,\"ticks\":\"\"}},\"type\":\"scatter3d\"}],\"scattercarpet\":[{\"marker\":{\"colorbar\":{\"outlinewidth\":0,\"ticks\":\"\"}},\"type\":\"scattercarpet\"}],\"scattergeo\":[{\"marker\":{\"colorbar\":{\"outlinewidth\":0,\"ticks\":\"\"}},\"type\":\"scattergeo\"}],\"scattergl\":[{\"marker\":{\"colorbar\":{\"outlinewidth\":0,\"ticks\":\"\"}},\"type\":\"scattergl\"}],\"scattermapbox\":[{\"marker\":{\"colorbar\":{\"outlinewidth\":0,\"ticks\":\"\"}},\"type\":\"scattermapbox\"}],\"scatterpolar\":[{\"marker\":{\"colorbar\":{\"outlinewidth\":0,\"ticks\":\"\"}},\"type\":\"scatterpolar\"}],\"scatterpolargl\":[{\"marker\":{\"colorbar\":{\"outlinewidth\":0,\"ticks\":\"\"}},\"type\":\"scatterpolargl\"}],\"scatterternary\":[{\"marker\":{\"colorbar\":{\"outlinewidth\":0,\"ticks\":\"\"}},\"type\":\"scatterternary\"}],\"surface\":[{\"colorbar\":{\"outlinewidth\":0,\"ticks\":\"\"},\"colorscale\":[[0.0,\"#0d0887\"],[0.1111111111111111,\"#46039f\"],[0.2222222222222222,\"#7201a8\"],[0.3333333333333333,\"#9c179e\"],[0.4444444444444444,\"#bd3786\"],[0.5555555555555556,\"#d8576b\"],[0.6666666666666666,\"#ed7953\"],[0.7777777777777778,\"#fb9f3a\"],[0.8888888888888888,\"#fdca26\"],[1.0,\"#f0f921\"]],\"type\":\"surface\"}],\"table\":[{\"cells\":{\"fill\":{\"color\":\"#EBF0F8\"},\"line\":{\"color\":\"white\"}},\"header\":{\"fill\":{\"color\":\"#C8D4E3\"},\"line\":{\"color\":\"white\"}},\"type\":\"table\"}]},\"layout\":{\"annotationdefaults\":{\"arrowcolor\":\"#2a3f5f\",\"arrowhead\":0,\"arrowwidth\":1},\"autotypenumbers\":\"strict\",\"coloraxis\":{\"colorbar\":{\"outlinewidth\":0,\"ticks\":\"\"}},\"colorscale\":{\"diverging\":[[0,\"#8e0152\"],[0.1,\"#c51b7d\"],[0.2,\"#de77ae\"],[0.3,\"#f1b6da\"],[0.4,\"#fde0ef\"],[0.5,\"#f7f7f7\"],[0.6,\"#e6f5d0\"],[0.7,\"#b8e186\"],[0.8,\"#7fbc41\"],[0.9,\"#4d9221\"],[1,\"#276419\"]],\"sequential\":[[0.0,\"#0d0887\"],[0.1111111111111111,\"#46039f\"],[0.2222222222222222,\"#7201a8\"],[0.3333333333333333,\"#9c179e\"],[0.4444444444444444,\"#bd3786\"],[0.5555555555555556,\"#d8576b\"],[0.6666666666666666,\"#ed7953\"],[0.7777777777777778,\"#fb9f3a\"],[0.8888888888888888,\"#fdca26\"],[1.0,\"#f0f921\"]],\"sequentialminus\":[[0.0,\"#0d0887\"],[0.1111111111111111,\"#46039f\"],[0.2222222222222222,\"#7201a8\"],[0.3333333333333333,\"#9c179e\"],[0.4444444444444444,\"#bd3786\"],[0.5555555555555556,\"#d8576b\"],[0.6666666666666666,\"#ed7953\"],[0.7777777777777778,\"#fb9f3a\"],[0.8888888888888888,\"#fdca26\"],[1.0,\"#f0f921\"]]},\"colorway\":[\"#636efa\",\"#EF553B\",\"#00cc96\",\"#ab63fa\",\"#FFA15A\",\"#19d3f3\",\"#FF6692\",\"#B6E880\",\"#FF97FF\",\"#FECB52\"],\"font\":{\"color\":\"#2a3f5f\"},\"geo\":{\"bgcolor\":\"white\",\"lakecolor\":\"white\",\"landcolor\":\"#E5ECF6\",\"showlakes\":true,\"showland\":true,\"subunitcolor\":\"white\"},\"hoverlabel\":{\"align\":\"left\"},\"hovermode\":\"closest\",\"mapbox\":{\"style\":\"light\"},\"paper_bgcolor\":\"white\",\"plot_bgcolor\":\"#E5ECF6\",\"polar\":{\"angularaxis\":{\"gridcolor\":\"white\",\"linecolor\":\"white\",\"ticks\":\"\"},\"bgcolor\":\"#E5ECF6\",\"radialaxis\":{\"gridcolor\":\"white\",\"linecolor\":\"white\",\"ticks\":\"\"}},\"scene\":{\"xaxis\":{\"backgroundcolor\":\"#E5ECF6\",\"gridcolor\":\"white\",\"gridwidth\":2,\"linecolor\":\"white\",\"showbackground\":true,\"ticks\":\"\",\"zerolinecolor\":\"white\"},\"yaxis\":{\"backgroundcolor\":\"#E5ECF6\",\"gridcolor\":\"white\",\"gridwidth\":2,\"linecolor\":\"white\",\"showbackground\":true,\"ticks\":\"\",\"zerolinecolor\":\"white\"},\"zaxis\":{\"backgroundcolor\":\"#E5ECF6\",\"gridcolor\":\"white\",\"gridwidth\":2,\"linecolor\":\"white\",\"showbackground\":true,\"ticks\":\"\",\"zerolinecolor\":\"white\"}},\"shapedefaults\":{\"line\":{\"color\":\"#2a3f5f\"}},\"ternary\":{\"aaxis\":{\"gridcolor\":\"white\",\"linecolor\":\"white\",\"ticks\":\"\"},\"baxis\":{\"gridcolor\":\"white\",\"linecolor\":\"white\",\"ticks\":\"\"},\"bgcolor\":\"#E5ECF6\",\"caxis\":{\"gridcolor\":\"white\",\"linecolor\":\"white\",\"ticks\":\"\"}},\"title\":{\"x\":0.05},\"xaxis\":{\"automargin\":true,\"gridcolor\":\"white\",\"linecolor\":\"white\",\"ticks\":\"\",\"title\":{\"standoff\":15},\"zerolinecolor\":\"white\",\"zerolinewidth\":2},\"yaxis\":{\"automargin\":true,\"gridcolor\":\"white\",\"linecolor\":\"white\",\"ticks\":\"\",\"title\":{\"standoff\":15},\"zerolinecolor\":\"white\",\"zerolinewidth\":2}}},\"legend\":{\"tracegroupgap\":0},\"margin\":{\"t\":60},\"piecolorway\":[\"rgb(103,0,31)\",\"rgb(178,24,43)\",\"rgb(214,96,77)\",\"rgb(244,165,130)\",\"rgb(253,219,199)\",\"rgb(247,247,247)\",\"rgb(209,229,240)\",\"rgb(146,197,222)\",\"rgb(67,147,195)\",\"rgb(33,102,172)\",\"rgb(5,48,97)\"],\"title\":{\"text\":\"Most Frequent Words\"}},                        {\"responsive\": true}                    ).then(function(){\n",
       "                            \n",
       "var gd = document.getElementById('e6ae55ea-b1e2-4f96-b9c1-8650d8b81250');\n",
       "var x = new MutationObserver(function (mutations, observer) {{\n",
       "        var display = window.getComputedStyle(gd).display;\n",
       "        if (!display || display === 'none') {{\n",
       "            console.log([gd, 'removed!']);\n",
       "            Plotly.purge(gd);\n",
       "            observer.disconnect();\n",
       "        }}\n",
       "}});\n",
       "\n",
       "// Listen for the removal of the full notebook cells\n",
       "var notebookContainer = gd.closest('#notebook-container');\n",
       "if (notebookContainer) {{\n",
       "    x.observe(notebookContainer, {childList: true});\n",
       "}}\n",
       "\n",
       "// Listen for the clearing of the current output cell\n",
       "var outputEl = gd.closest('.output');\n",
       "if (outputEl) {{\n",
       "    x.observe(outputEl, {childList: true});\n",
       "}}\n",
       "\n",
       "                        })                };                });            </script>        </div>"
      ]
     },
     "metadata": {},
     "output_type": "display_data"
    }
   ],
   "source": [
    "fig = px.pie(data, values=c, names=w, color_discrete_sequence=px.colors.sequential.RdBu)\n",
    "fig.update_traces(textposition='inside', textinfo='percent+label')\n",
    "fig.update_layout(title=\"Most Frequent Words\")\n",
    "fig.show()"
   ]
  },
  {
   "cell_type": "markdown",
   "id": "5a74fe93",
   "metadata": {
    "papermill": {
     "duration": 0.079718,
     "end_time": "2022-03-20T07:59:34.589748",
     "exception": false,
     "start_time": "2022-03-20T07:59:34.510030",
     "status": "completed"
    },
    "tags": []
   },
   "source": [
    "- Displaying Rarewords"
   ]
  },
  {
   "cell_type": "code",
   "execution_count": 28,
   "id": "c572227a",
   "metadata": {
    "execution": {
     "iopub.execute_input": "2022-03-20T07:59:34.759575Z",
     "iopub.status.busy": "2022-03-20T07:59:34.758925Z",
     "iopub.status.idle": "2022-03-20T07:59:34.783640Z",
     "shell.execute_reply": "2022-03-20T07:59:34.783046Z",
     "shell.execute_reply.started": "2022-03-20T07:15:38.137804Z"
    },
    "papermill": {
     "duration": 0.110771,
     "end_time": "2022-03-20T07:59:34.783811",
     "exception": false,
     "start_time": "2022-03-20T07:59:34.673040",
     "status": "completed"
    },
    "tags": []
   },
   "outputs": [],
   "source": [
    "n_rare_words = 11\n",
    "RAREWORDS = set([w for (w, wc) in cnt.most_common()[:-n_rare_words-1:-1]])"
   ]
  },
  {
   "cell_type": "code",
   "execution_count": 29,
   "id": "95eb00a4",
   "metadata": {
    "execution": {
     "iopub.execute_input": "2022-03-20T07:59:34.953805Z",
     "iopub.status.busy": "2022-03-20T07:59:34.953102Z",
     "iopub.status.idle": "2022-03-20T07:59:34.957365Z",
     "shell.execute_reply": "2022-03-20T07:59:34.957921Z",
     "shell.execute_reply.started": "2022-03-20T07:15:38.166701Z"
    },
    "papermill": {
     "duration": 0.094202,
     "end_time": "2022-03-20T07:59:34.958162",
     "exception": false,
     "start_time": "2022-03-20T07:59:34.863960",
     "status": "completed"
    },
    "tags": []
   },
   "outputs": [
    {
     "data": {
      "text/plain": [
       "{'1922',\n",
       " 'backgroung',\n",
       " 'don8216t',\n",
       " 'firedrake',\n",
       " 'gryphon',\n",
       " 'helos',\n",
       " 'insite',\n",
       " 'meaness',\n",
       " 'relm',\n",
       " 'symbols',\n",
       " 'twicetypos'}"
      ]
     },
     "execution_count": 29,
     "metadata": {},
     "output_type": "execute_result"
    }
   ],
   "source": [
    "RAREWORDS"
   ]
  },
  {
   "cell_type": "markdown",
   "id": "700d6fc4",
   "metadata": {
    "papermill": {
     "duration": 0.080879,
     "end_time": "2022-03-20T07:59:35.122844",
     "exception": false,
     "start_time": "2022-03-20T07:59:35.041965",
     "status": "completed"
    },
    "tags": []
   },
   "source": [
    "# Splitting the data"
   ]
  },
  {
   "cell_type": "code",
   "execution_count": 30,
   "id": "ad481306",
   "metadata": {
    "execution": {
     "iopub.execute_input": "2022-03-20T07:59:35.295153Z",
     "iopub.status.busy": "2022-03-20T07:59:35.288320Z",
     "iopub.status.idle": "2022-03-20T07:59:35.299135Z",
     "shell.execute_reply": "2022-03-20T07:59:35.298445Z",
     "shell.execute_reply.started": "2022-03-20T07:15:38.179635Z"
    },
    "papermill": {
     "duration": 0.095399,
     "end_time": "2022-03-20T07:59:35.299282",
     "exception": false,
     "start_time": "2022-03-20T07:59:35.203883",
     "status": "completed"
    },
    "tags": []
   },
   "outputs": [
    {
     "data": {
      "text/html": [
       "<div>\n",
       "<style scoped>\n",
       "    .dataframe tbody tr th:only-of-type {\n",
       "        vertical-align: middle;\n",
       "    }\n",
       "\n",
       "    .dataframe tbody tr th {\n",
       "        vertical-align: top;\n",
       "    }\n",
       "\n",
       "    .dataframe thead th {\n",
       "        text-align: right;\n",
       "    }\n",
       "</style>\n",
       "<table border=\"1\" class=\"dataframe\">\n",
       "  <thead>\n",
       "    <tr style=\"text-align: right;\">\n",
       "      <th></th>\n",
       "      <th>rating</th>\n",
       "      <th>reviewText</th>\n",
       "    </tr>\n",
       "  </thead>\n",
       "  <tbody>\n",
       "    <tr>\n",
       "      <th>0</th>\n",
       "      <td>0</td>\n",
       "      <td>book first bookmobile book buy school book clu...</td>\n",
       "    </tr>\n",
       "    <tr>\n",
       "      <th>1</th>\n",
       "      <td>1</td>\n",
       "      <td>read description book couldnt wait read downlo...</td>\n",
       "    </tr>\n",
       "    <tr>\n",
       "      <th>2</th>\n",
       "      <td>0</td>\n",
       "      <td>edit review book believe get right update rewr...</td>\n",
       "    </tr>\n",
       "    <tr>\n",
       "      <th>3</th>\n",
       "      <td>0</td>\n",
       "      <td>dont normally buy mystery novels dont like how...</td>\n",
       "    </tr>\n",
       "    <tr>\n",
       "      <th>4</th>\n",
       "      <td>0</td>\n",
       "      <td>isnt kind book normally read although try limi...</td>\n",
       "    </tr>\n",
       "    <tr>\n",
       "      <th>...</th>\n",
       "      <td>...</td>\n",
       "      <td>...</td>\n",
       "    </tr>\n",
       "    <tr>\n",
       "      <th>11995</th>\n",
       "      <td>1</td>\n",
       "      <td>read certain passage twicetypos wish build rel...</td>\n",
       "    </tr>\n",
       "    <tr>\n",
       "      <th>11996</th>\n",
       "      <td>0</td>\n",
       "      <td>expect yet interesting book usually don8216t r...</td>\n",
       "    </tr>\n",
       "    <tr>\n",
       "      <th>11997</th>\n",
       "      <td>0</td>\n",
       "      <td>dragon knight world knight ride dragon slay wi...</td>\n",
       "    </tr>\n",
       "    <tr>\n",
       "      <th>11998</th>\n",
       "      <td>0</td>\n",
       "      <td>since story short hard say much without give a...</td>\n",
       "    </tr>\n",
       "    <tr>\n",
       "      <th>11999</th>\n",
       "      <td>0</td>\n",
       "      <td>1922 amazing collection info symbols culture a...</td>\n",
       "    </tr>\n",
       "  </tbody>\n",
       "</table>\n",
       "<p>12000 rows × 2 columns</p>\n",
       "</div>"
      ],
      "text/plain": [
       "       rating                                         reviewText\n",
       "0           0  book first bookmobile book buy school book clu...\n",
       "1           1  read description book couldnt wait read downlo...\n",
       "2           0  edit review book believe get right update rewr...\n",
       "3           0  dont normally buy mystery novels dont like how...\n",
       "4           0  isnt kind book normally read although try limi...\n",
       "...       ...                                                ...\n",
       "11995       1  read certain passage twicetypos wish build rel...\n",
       "11996       0  expect yet interesting book usually don8216t r...\n",
       "11997       0  dragon knight world knight ride dragon slay wi...\n",
       "11998       0  since story short hard say much without give a...\n",
       "11999       0  1922 amazing collection info symbols culture a...\n",
       "\n",
       "[12000 rows x 2 columns]"
      ]
     },
     "execution_count": 30,
     "metadata": {},
     "output_type": "execute_result"
    }
   ],
   "source": [
    "# preview of data\n",
    "\n",
    "data"
   ]
  },
  {
   "cell_type": "code",
   "execution_count": 31,
   "id": "3a908a71",
   "metadata": {
    "execution": {
     "iopub.execute_input": "2022-03-20T07:59:35.467967Z",
     "iopub.status.busy": "2022-03-20T07:59:35.467262Z",
     "iopub.status.idle": "2022-03-20T07:59:35.478514Z",
     "shell.execute_reply": "2022-03-20T07:59:35.477551Z",
     "shell.execute_reply.started": "2022-03-20T07:15:38.199753Z"
    },
    "papermill": {
     "duration": 0.098499,
     "end_time": "2022-03-20T07:59:35.478792",
     "exception": false,
     "start_time": "2022-03-20T07:59:35.380293",
     "status": "completed"
    },
    "tags": []
   },
   "outputs": [],
   "source": [
    "train, test = train_test_split(data, test_size = 0.3, stratify = data['rating'], random_state = 42)"
   ]
  },
  {
   "cell_type": "code",
   "execution_count": 32,
   "id": "30cbc2a5",
   "metadata": {
    "execution": {
     "iopub.execute_input": "2022-03-20T07:59:35.640427Z",
     "iopub.status.busy": "2022-03-20T07:59:35.639765Z",
     "iopub.status.idle": "2022-03-20T07:59:37.043837Z",
     "shell.execute_reply": "2022-03-20T07:59:37.044370Z",
     "shell.execute_reply.started": "2022-03-20T07:15:38.218081Z"
    },
    "papermill": {
     "duration": 1.486582,
     "end_time": "2022-03-20T07:59:37.044547",
     "exception": false,
     "start_time": "2022-03-20T07:59:35.557965",
     "status": "completed"
    },
    "tags": []
   },
   "outputs": [],
   "source": [
    "cv= CountVectorizer(binary=True, min_df = 10, max_df = 0.95)\n",
    "cv.fit_transform(train['reviewText'].values)\n",
    "train_feature_set=cv.transform(train['reviewText'].values)\n",
    "test_feature_set=cv.transform(test['reviewText'].values)"
   ]
  },
  {
   "cell_type": "code",
   "execution_count": 33,
   "id": "ff258d6e",
   "metadata": {
    "execution": {
     "iopub.execute_input": "2022-03-20T07:59:37.213344Z",
     "iopub.status.busy": "2022-03-20T07:59:37.212477Z",
     "iopub.status.idle": "2022-03-20T07:59:37.216406Z",
     "shell.execute_reply": "2022-03-20T07:59:37.215770Z",
     "shell.execute_reply.started": "2022-03-20T07:15:39.668494Z"
    },
    "papermill": {
     "duration": 0.091403,
     "end_time": "2022-03-20T07:59:37.216541",
     "exception": false,
     "start_time": "2022-03-20T07:59:37.125138",
     "status": "completed"
    },
    "tags": []
   },
   "outputs": [
    {
     "data": {
      "text/plain": [
       "<8400x3773 sparse matrix of type '<class 'numpy.int64'>'\n",
       "\twith 322980 stored elements in Compressed Sparse Row format>"
      ]
     },
     "execution_count": 33,
     "metadata": {},
     "output_type": "execute_result"
    }
   ],
   "source": [
    "train_feature_set"
   ]
  },
  {
   "cell_type": "code",
   "execution_count": 34,
   "id": "fd5e7199",
   "metadata": {
    "execution": {
     "iopub.execute_input": "2022-03-20T07:59:37.380758Z",
     "iopub.status.busy": "2022-03-20T07:59:37.379940Z",
     "iopub.status.idle": "2022-03-20T07:59:37.383224Z",
     "shell.execute_reply": "2022-03-20T07:59:37.383729Z",
     "shell.execute_reply.started": "2022-03-20T07:15:39.679571Z"
    },
    "papermill": {
     "duration": 0.089302,
     "end_time": "2022-03-20T07:59:37.383901",
     "exception": false,
     "start_time": "2022-03-20T07:59:37.294599",
     "status": "completed"
    },
    "tags": []
   },
   "outputs": [
    {
     "data": {
      "text/plain": [
       "3773"
      ]
     },
     "execution_count": 34,
     "metadata": {},
     "output_type": "execute_result"
    }
   ],
   "source": [
    "train_feature_set.shape[1]"
   ]
  },
  {
   "cell_type": "code",
   "execution_count": 35,
   "id": "8fa91488",
   "metadata": {
    "execution": {
     "iopub.execute_input": "2022-03-20T07:59:37.552866Z",
     "iopub.status.busy": "2022-03-20T07:59:37.549782Z",
     "iopub.status.idle": "2022-03-20T07:59:37.555028Z",
     "shell.execute_reply": "2022-03-20T07:59:37.555530Z",
     "shell.execute_reply.started": "2022-03-20T07:15:39.698212Z"
    },
    "papermill": {
     "duration": 0.09047,
     "end_time": "2022-03-20T07:59:37.555718",
     "exception": false,
     "start_time": "2022-03-20T07:59:37.465248",
     "status": "completed"
    },
    "tags": []
   },
   "outputs": [
    {
     "data": {
      "text/plain": [
       "422"
      ]
     },
     "execution_count": 35,
     "metadata": {},
     "output_type": "execute_result"
    }
   ],
   "source": [
    "cv.vocabulary_['book']"
   ]
  },
  {
   "cell_type": "code",
   "execution_count": 36,
   "id": "f06bf20a",
   "metadata": {
    "execution": {
     "iopub.execute_input": "2022-03-20T07:59:37.723921Z",
     "iopub.status.busy": "2022-03-20T07:59:37.723003Z",
     "iopub.status.idle": "2022-03-20T07:59:37.726475Z",
     "shell.execute_reply": "2022-03-20T07:59:37.725959Z",
     "shell.execute_reply.started": "2022-03-20T07:15:39.712792Z"
    },
    "papermill": {
     "duration": 0.09009,
     "end_time": "2022-03-20T07:59:37.726618",
     "exception": false,
     "start_time": "2022-03-20T07:59:37.636528",
     "status": "completed"
    },
    "tags": []
   },
   "outputs": [],
   "source": [
    "y_train = train['rating'].values\n",
    "y_test = test['rating'].values"
   ]
  },
  {
   "cell_type": "markdown",
   "id": "e7b032ec",
   "metadata": {
    "papermill": {
     "duration": 0.079472,
     "end_time": "2022-03-20T07:59:37.884844",
     "exception": false,
     "start_time": "2022-03-20T07:59:37.805372",
     "status": "completed"
    },
    "tags": []
   },
   "source": [
    "# Building our Model"
   ]
  },
  {
   "cell_type": "code",
   "execution_count": 37,
   "id": "e3ff904c",
   "metadata": {
    "execution": {
     "iopub.execute_input": "2022-03-20T07:59:38.055560Z",
     "iopub.status.busy": "2022-03-20T07:59:38.054343Z",
     "iopub.status.idle": "2022-03-20T07:59:38.363162Z",
     "shell.execute_reply": "2022-03-20T07:59:38.362508Z",
     "shell.execute_reply.started": "2022-03-20T07:15:39.726191Z"
    },
    "papermill": {
     "duration": 0.396173,
     "end_time": "2022-03-20T07:59:38.363304",
     "exception": false,
     "start_time": "2022-03-20T07:59:37.967131",
     "status": "completed"
    },
    "tags": []
   },
   "outputs": [
    {
     "name": "stdout",
     "output_type": "stream",
     "text": [
      "Accuracy:  0.824\n",
      "F1:  0.726\n"
     ]
    }
   ],
   "source": [
    "lr = LogisticRegression(random_state = 42, max_iter=1000)\n",
    "lr.fit(train_feature_set,y_train)\n",
    "y_pred = lr.predict(test_feature_set)\n",
    "print(\"Accuracy: \",round(metrics.accuracy_score(y_test,y_pred),3))\n",
    "print(\"F1: \",round(metrics.f1_score(y_test, y_pred),3))"
   ]
  },
  {
   "cell_type": "code",
   "execution_count": 38,
   "id": "a6ba593d",
   "metadata": {
    "execution": {
     "iopub.execute_input": "2022-03-20T07:59:38.527770Z",
     "iopub.status.busy": "2022-03-20T07:59:38.527087Z",
     "iopub.status.idle": "2022-03-20T07:59:38.533225Z",
     "shell.execute_reply": "2022-03-20T07:59:38.532408Z",
     "shell.execute_reply.started": "2022-03-20T07:15:40.085932Z"
    },
    "papermill": {
     "duration": 0.09086,
     "end_time": "2022-03-20T07:59:38.533382",
     "exception": false,
     "start_time": "2022-03-20T07:59:38.442522",
     "status": "completed"
    },
    "tags": []
   },
   "outputs": [
    {
     "data": {
      "text/plain": [
       "array([[2126,  274],\n",
       "       [ 360,  840]])"
      ]
     },
     "execution_count": 38,
     "metadata": {},
     "output_type": "execute_result"
    }
   ],
   "source": [
    "cm1 = confusion_matrix(y_test, y_pred)\n",
    "cm1"
   ]
  },
  {
   "cell_type": "code",
   "execution_count": 39,
   "id": "83a85746",
   "metadata": {
    "execution": {
     "iopub.execute_input": "2022-03-20T07:59:38.704483Z",
     "iopub.status.busy": "2022-03-20T07:59:38.703796Z",
     "iopub.status.idle": "2022-03-20T07:59:38.709360Z",
     "shell.execute_reply": "2022-03-20T07:59:38.709953Z",
     "shell.execute_reply.started": "2022-03-20T07:15:40.098395Z"
    },
    "papermill": {
     "duration": 0.093376,
     "end_time": "2022-03-20T07:59:38.710130",
     "exception": false,
     "start_time": "2022-03-20T07:59:38.616754",
     "status": "completed"
    },
    "tags": []
   },
   "outputs": [
    {
     "data": {
      "text/plain": [
       "array([[0.88583333, 0.11416667],\n",
       "       [0.3       , 0.7       ]])"
      ]
     },
     "execution_count": 39,
     "metadata": {},
     "output_type": "execute_result"
    }
   ],
   "source": [
    "cm2 = confusion_matrix(y_test, y_pred,normalize='true')\n",
    "cm2"
   ]
  },
  {
   "cell_type": "code",
   "execution_count": 40,
   "id": "66628ed0",
   "metadata": {
    "execution": {
     "iopub.execute_input": "2022-03-20T07:59:38.885283Z",
     "iopub.status.busy": "2022-03-20T07:59:38.884540Z",
     "iopub.status.idle": "2022-03-20T07:59:39.107530Z",
     "shell.execute_reply": "2022-03-20T07:59:39.106770Z",
     "shell.execute_reply.started": "2022-03-20T07:15:40.115035Z"
    },
    "papermill": {
     "duration": 0.312782,
     "end_time": "2022-03-20T07:59:39.107719",
     "exception": false,
     "start_time": "2022-03-20T07:59:38.794937",
     "status": "completed"
    },
    "tags": []
   },
   "outputs": [
    {
     "data": {
      "image/png": "[encoded data removed]",
      "text/plain": [
       "<Figure size 432x288 with 2 Axes>"
      ]
     },
     "metadata": {
      "needs_background": "light"
     },
     "output_type": "display_data"
    }
   ],
   "source": [
    "disp = ConfusionMatrixDisplay(confusion_matrix=cm1,display_labels=lr.classes_)\n",
    "disp.plot()\n",
    "plt.show()"
   ]
  },
  {
   "cell_type": "code",
   "execution_count": 41,
   "id": "2c69bbae",
   "metadata": {
    "execution": {
     "iopub.execute_input": "2022-03-20T07:59:39.283374Z",
     "iopub.status.busy": "2022-03-20T07:59:39.282370Z",
     "iopub.status.idle": "2022-03-20T07:59:39.510860Z",
     "shell.execute_reply": "2022-03-20T07:59:39.510168Z",
     "shell.execute_reply.started": "2022-03-20T07:15:40.35264Z"
    },
    "papermill": {
     "duration": 0.316839,
     "end_time": "2022-03-20T07:59:39.511026",
     "exception": false,
     "start_time": "2022-03-20T07:59:39.194187",
     "status": "completed"
    },
    "tags": []
   },
   "outputs": [
    {
     "data": {
      "image/png": "[encoded data removed]",
      "text/plain": [
       "<Figure size 432x288 with 2 Axes>"
      ]
     },
     "metadata": {
      "needs_background": "light"
     },
     "output_type": "display_data"
    }
   ],
   "source": [
    "disp = ConfusionMatrixDisplay(confusion_matrix=cm2,display_labels=lr.classes_)\n",
    "disp.plot()\n",
    "plt.show()"
   ]
  },
  {
   "cell_type": "code",
   "execution_count": 42,
   "id": "25506eca",
   "metadata": {
    "execution": {
     "iopub.execute_input": "2022-03-20T07:59:39.685546Z",
     "iopub.status.busy": "2022-03-20T07:59:39.684865Z",
     "iopub.status.idle": "2022-03-20T07:59:39.694903Z",
     "shell.execute_reply": "2022-03-20T07:59:39.695523Z",
     "shell.execute_reply.started": "2022-03-20T07:15:40.596464Z"
    },
    "papermill": {
     "duration": 0.100155,
     "end_time": "2022-03-20T07:59:39.695721",
     "exception": false,
     "start_time": "2022-03-20T07:59:39.595566",
     "status": "completed"
    },
    "tags": []
   },
   "outputs": [
    {
     "name": "stdout",
     "output_type": "stream",
     "text": [
      "Feature:  099 Score:  0.17009113456126124\n",
      "Feature:  10 Score:  0.32618786733952304\n",
      "Feature:  100 Score:  0.48837010936314723\n",
      "Feature:  11 Score:  -0.38814976764855386\n",
      "Feature:  12 Score:  -0.46210531282054784\n",
      "Feature:  13 Score:  0.8430789988824341\n",
      "Feature:  14 Score:  -0.6044090334662856\n",
      "Feature:  15 Score:  0.9184474143072441\n",
      "Feature:  16 Score:  0.4628201502148334\n",
      "Feature:  17 Score:  0.41937803852545696\n"
     ]
    }
   ],
   "source": [
    "feature_importance = lr.coef_[0][:10]\n",
    "for i,v in enumerate(feature_importance):\n",
    "    print('Feature: ', list(cv.vocabulary_.keys())[list(cv.vocabulary_.values()).index(i)], 'Score: ', v)"
   ]
  },
  {
   "cell_type": "code",
   "execution_count": 43,
   "id": "b18c9f22",
   "metadata": {
    "execution": {
     "iopub.execute_input": "2022-03-20T07:59:39.869519Z",
     "iopub.status.busy": "2022-03-20T07:59:39.868823Z",
     "iopub.status.idle": "2022-03-20T07:59:39.871560Z",
     "shell.execute_reply": "2022-03-20T07:59:39.872207Z",
     "shell.execute_reply.started": "2022-03-20T07:15:40.617997Z"
    },
    "papermill": {
     "duration": 0.092145,
     "end_time": "2022-03-20T07:59:39.872399",
     "exception": false,
     "start_time": "2022-03-20T07:59:39.780254",
     "status": "completed"
    },
    "tags": []
   },
   "outputs": [],
   "source": [
    "feature_importance = lr.coef_[0]\n",
    "sorted_idx = np.argsort(feature_importance)"
   ]
  },
  {
   "cell_type": "markdown",
   "id": "6cc3b9dc",
   "metadata": {
    "papermill": {
     "duration": 0.085057,
     "end_time": "2022-03-20T07:59:40.042453",
     "exception": false,
     "start_time": "2022-03-20T07:59:39.957396",
     "status": "completed"
    },
    "tags": []
   },
   "source": [
    "Top words for the positive class (negative sentiment):"
   ]
  },
  {
   "cell_type": "code",
   "execution_count": 44,
   "id": "ddf6b2be",
   "metadata": {
    "execution": {
     "iopub.execute_input": "2022-03-20T07:59:40.220520Z",
     "iopub.status.busy": "2022-03-20T07:59:40.214439Z",
     "iopub.status.idle": "2022-03-20T07:59:40.229947Z",
     "shell.execute_reply": "2022-03-20T07:59:40.229233Z",
     "shell.execute_reply.started": "2022-03-20T07:15:40.625683Z"
    },
    "papermill": {
     "duration": 0.103009,
     "end_time": "2022-03-20T07:59:40.230115",
     "exception": false,
     "start_time": "2022-03-20T07:59:40.127106",
     "status": "completed"
    },
    "tags": []
   },
   "outputs": [
    {
     "name": "stdout",
     "output_type": "stream",
     "text": [
      "['waste', 'delete', 'cardboard', 'sorry', 'depress', 'boring', '25', 'thin', 'ugh', 'weird']\n"
     ]
    }
   ],
   "source": [
    "top_10_pos_w = [list(cv.vocabulary_.keys())[list(cv.vocabulary_.values()).index(w)] for w in sorted_idx[range(-1,-11, -1)]]\n",
    "print(top_10_pos_w)"
   ]
  },
  {
   "cell_type": "code",
   "execution_count": 45,
   "id": "155de8e1",
   "metadata": {
    "execution": {
     "iopub.execute_input": "2022-03-20T07:59:40.411207Z",
     "iopub.status.busy": "2022-03-20T07:59:40.410519Z",
     "iopub.status.idle": "2022-03-20T07:59:40.700137Z",
     "shell.execute_reply": "2022-03-20T07:59:40.700647Z",
     "shell.execute_reply.started": "2022-03-20T07:15:40.649081Z"
    },
    "papermill": {
     "duration": 0.383032,
     "end_time": "2022-03-20T07:59:40.700846",
     "exception": false,
     "start_time": "2022-03-20T07:59:40.317814",
     "status": "completed"
    },
    "tags": []
   },
   "outputs": [
    {
     "data": {
      "image/png": "[encoded data removed]",
      "text/plain": [
       "<Figure size 720x432 with 1 Axes>"
      ]
     },
     "metadata": {
      "needs_background": "light"
     },
     "output_type": "display_data"
    }
   ],
   "source": [
    "fig = plt.figure(figsize=(10, 6))\n",
    "ax = sns.barplot(x=top_10_pos_w, y=feature_importance[sorted_idx[range(-1,-11, -1)]])\n",
    "plt.title(\"Most Important Words Used for Negative Sentiment\",fontsize = 20)\n",
    "x_locs,x_labels = plt.xticks()\n",
    "plt.setp(x_labels, rotation = 40)\n",
    "plt.ylabel('Feature Importance', fontsize = 12)\n",
    "plt.xlabel('Word', fontsize = 12);"
   ]
  },
  {
   "cell_type": "markdown",
   "id": "f2099fb1",
   "metadata": {
    "papermill": {
     "duration": 0.086429,
     "end_time": "2022-03-20T07:59:40.875074",
     "exception": false,
     "start_time": "2022-03-20T07:59:40.788645",
     "status": "completed"
    },
    "tags": []
   },
   "source": [
    "Top words for the negative class (positive sentiment):"
   ]
  },
  {
   "cell_type": "code",
   "execution_count": 46,
   "id": "cb0cc9b4",
   "metadata": {
    "execution": {
     "iopub.execute_input": "2022-03-20T07:59:41.059870Z",
     "iopub.status.busy": "2022-03-20T07:59:41.059144Z",
     "iopub.status.idle": "2022-03-20T07:59:41.066175Z",
     "shell.execute_reply": "2022-03-20T07:59:41.065500Z",
     "shell.execute_reply.started": "2022-03-20T07:15:40.972635Z"
    },
    "papermill": {
     "duration": 0.106417,
     "end_time": "2022-03-20T07:59:41.066319",
     "exception": false,
     "start_time": "2022-03-20T07:59:40.959902",
     "status": "completed"
    },
    "tags": []
   },
   "outputs": [
    {
     "name": "stdout",
     "output_type": "stream",
     "text": [
      "['enjoyed', 'verne', 'enjoyable', 'shot', 'fun', 'thumb', 'hunter', 'thrill', 'loved', 'hot']\n"
     ]
    }
   ],
   "source": [
    "top_10_neg_w = [list(cv.vocabulary_.keys())[list(cv.vocabulary_.values()).index(w)] for w in sorted_idx[:10]]\n",
    "print(top_10_neg_w)"
   ]
  },
  {
   "cell_type": "code",
   "execution_count": 47,
   "id": "d8d0f948",
   "metadata": {
    "execution": {
     "iopub.execute_input": "2022-03-20T07:59:41.244972Z",
     "iopub.status.busy": "2022-03-20T07:59:41.244237Z",
     "iopub.status.idle": "2022-03-20T07:59:41.529675Z",
     "shell.execute_reply": "2022-03-20T07:59:41.529041Z",
     "shell.execute_reply.started": "2022-03-20T07:15:40.990334Z"
    },
    "papermill": {
     "duration": 0.376773,
     "end_time": "2022-03-20T07:59:41.529862",
     "exception": false,
     "start_time": "2022-03-20T07:59:41.153089",
     "status": "completed"
    },
    "tags": []
   },
   "outputs": [
    {
     "data": {
      "image/png": "[encoded data removed]",
      "text/plain": [
       "<Figure size 720x432 with 1 Axes>"
      ]
     },
     "metadata": {
      "needs_background": "light"
     },
     "output_type": "display_data"
    }
   ],
   "source": [
    "fig = plt.figure(figsize=(10, 6))\n",
    "ax = sns.barplot(x=top_10_neg_w, y=feature_importance[sorted_idx[:10]])\n",
    "plt.title(\"Most Important Words Used for Positive Sentiment\",fontsize = 20)\n",
    "x_locs,x_labels = plt.xticks()\n",
    "plt.setp(x_labels, rotation = 40)\n",
    "plt.ylabel('Feature Importance', fontsize = 12)\n",
    "plt.xlabel('Word', fontsize = 12);"
   ]
  },
  {
   "cell_type": "markdown",
   "id": "61e5ab03",
   "metadata": {
    "papermill": {
     "duration": 0.091944,
     "end_time": "2022-03-20T07:59:41.713185",
     "exception": false,
     "start_time": "2022-03-20T07:59:41.621241",
     "status": "completed"
    },
    "tags": []
   },
   "source": [
    "# Prediction on our sentences"
   ]
  },
  {
   "cell_type": "code",
   "execution_count": 48,
   "id": "1fceaef9",
   "metadata": {
    "execution": {
     "iopub.execute_input": "2022-03-20T07:59:41.900086Z",
     "iopub.status.busy": "2022-03-20T07:59:41.899383Z",
     "iopub.status.idle": "2022-03-20T07:59:41.902679Z",
     "shell.execute_reply": "2022-03-20T07:59:41.903244Z",
     "shell.execute_reply.started": "2022-03-20T07:15:41.312777Z"
    },
    "papermill": {
     "duration": 0.099359,
     "end_time": "2022-03-20T07:59:41.903420",
     "exception": false,
     "start_time": "2022-03-20T07:59:41.804061",
     "status": "completed"
    },
    "tags": []
   },
   "outputs": [
    {
     "data": {
      "text/plain": [
       "array([0, 1])"
      ]
     },
     "execution_count": 48,
     "metadata": {},
     "output_type": "execute_result"
    }
   ],
   "source": [
    "lr.classes_#negative class first, positive class next"
   ]
  },
  {
   "cell_type": "code",
   "execution_count": 49,
   "id": "ab13f918",
   "metadata": {
    "execution": {
     "iopub.execute_input": "2022-03-20T07:59:42.084785Z",
     "iopub.status.busy": "2022-03-20T07:59:42.084099Z",
     "iopub.status.idle": "2022-03-20T07:59:42.093527Z",
     "shell.execute_reply": "2022-03-20T07:59:42.092223Z",
     "shell.execute_reply.started": "2022-03-20T07:15:41.320499Z"
    },
    "papermill": {
     "duration": 0.101989,
     "end_time": "2022-03-20T07:59:42.093729",
     "exception": false,
     "start_time": "2022-03-20T07:59:41.991740",
     "status": "completed"
    },
    "tags": []
   },
   "outputs": [
    {
     "name": "stdout",
     "output_type": "stream",
     "text": [
      "prob are: [[0.78784978 0.21215022]]\n",
      "prediction are: [0]\n"
     ]
    }
   ],
   "source": [
    "test_review = cv.transform([\"I did not enjoy the book\"])\n",
    "p = lr.predict_proba(test_review)\n",
    "s = lr.predict(test_review)\n",
    "print(\"prob are:\",p)\n",
    "print(\"prediction are:\",s)"
   ]
  },
  {
   "cell_type": "markdown",
   "id": "12b8f89a",
   "metadata": {
    "papermill": {
     "duration": 0.089132,
     "end_time": "2022-03-20T07:59:42.274417",
     "exception": false,
     "start_time": "2022-03-20T07:59:42.185285",
     "status": "completed"
    },
    "tags": []
   },
   "source": [
    "- hyperparameter"
   ]
  },
  {
   "cell_type": "code",
   "execution_count": 50,
   "id": "2d3fda80",
   "metadata": {
    "execution": {
     "iopub.execute_input": "2022-03-20T07:59:42.460320Z",
     "iopub.status.busy": "2022-03-20T07:59:42.459263Z",
     "iopub.status.idle": "2022-03-20T07:59:42.503578Z",
     "shell.execute_reply": "2022-03-20T07:59:42.504118Z",
     "shell.execute_reply.started": "2022-03-20T07:15:41.342731Z"
    },
    "papermill": {
     "duration": 0.142794,
     "end_time": "2022-03-20T07:59:42.504309",
     "exception": false,
     "start_time": "2022-03-20T07:59:42.361515",
     "status": "completed"
    },
    "tags": []
   },
   "outputs": [
    {
     "name": "stdout",
     "output_type": "stream",
     "text": [
      "\n",
      "******** For i = 0.3 ******\n",
      "F1: 0.735\n",
      "\n",
      "******** For i = 0.4 ******\n",
      "F1: 0.733\n",
      "\n",
      "******** For i = 0.45 ******\n",
      "F1: 0.733\n",
      "\n",
      "******** For i = 0.5 ******\n",
      "F1: 0.726\n"
     ]
    }
   ],
   "source": [
    "pred_proba_df = pd.DataFrame(lr.predict_proba(test_feature_set))\n",
    "threshold_list = [0.3,0.4,0.45,0.5]\n",
    "for i in threshold_list:\n",
    "    print ('\\n******** For i = {} ******'.format(i))\n",
    "    Y_test_pred = pred_proba_df.applymap(lambda x: 1 if x>i else 0)\n",
    "    test_f1 = round(metrics.f1_score(y_test, Y_test_pred.loc[:,1].values),3)\n",
    "    print('F1: {}'.format(test_f1))"
   ]
  },
  {
   "cell_type": "markdown",
   "id": "e0104721",
   "metadata": {
    "papermill": {
     "duration": 0.093844,
     "end_time": "2022-03-20T07:59:42.686102",
     "exception": false,
     "start_time": "2022-03-20T07:59:42.592258",
     "status": "completed"
    },
    "tags": []
   },
   "source": [
    "# Recap: \n",
    "- We performed Sentiment Analysis on Amazon Kindle Review using Logistic Regression.\n",
    "- We performed EDA.\n",
    "- We performed Preprocessing steps for cleaning our dataset.\n",
    "- Then we spilt our dataset into training and testing.\n",
    "- We build our logistic regression model.\n",
    "- Then we train our model with training dataset.\n",
    "- We also evaulated our model using testing dataset and also used various evualation metrics.\n",
    "- And then tried our own sentence to test our model.\n",
    "- Then we plotted Most Important Words Used for Negative Sentiment as well as Most Important Words Used for Postive Sentiment\n",
    "\n"
   ]
  },
  {
   "cell_type": "markdown",
   "id": "6cef66a1",
   "metadata": {
    "papermill": {
     "duration": 0.091007,
     "end_time": "2022-03-20T07:59:42.865091",
     "exception": false,
     "start_time": "2022-03-20T07:59:42.774084",
     "status": "completed"
    },
    "tags": []
   },
   "source": [
    "# [View my verious sentiment analysis notebook on the same topic](https://www.kaggle.com/code/meetnagadia/amazon-kindle-book-sentiment-analysis)"
   ]
  },
  {
   "cell_type": "markdown",
   "id": "1153a17c",
   "metadata": {
    "papermill": {
     "duration": 0.087621,
     "end_time": "2022-03-20T07:59:43.048613",
     "exception": false,
     "start_time": "2022-03-20T07:59:42.960992",
     "status": "completed"
    },
    "tags": []
   },
   "source": [
    "![](https://c.tenor.com/WGo9iYM9V2kAAAAC/the-end-background.gif)"
   ]
  }
 ],
 "metadata": {
  "kernelspec": {
   "display_name": "Python 3",
   "language": "python",
   "name": "python3"
  },
  "language_info": {
   "codemirror_mode": {
    "name": "ipython",
    "version": 3
   },
   "file_extension": ".py",
   "mimetype": "text/x-python",
   "name": "python",
   "nbconvert_exporter": "python",
   "pygments_lexer": "ipython3",
   "version": "3.7.12"
  },
  "papermill": {
   "default_parameters": {},
   "duration": 92.40681,
   "end_time": "2022-03-20T07:59:44.452241",
   "environment_variables": {},
   "exception": null,
   "input_path": "__notebook__.ipynb",
   "output_path": "__notebook__.ipynb",
   "parameters": {},
   "start_time": "2022-03-20T07:58:12.045431",
   "version": "2.3.3"
  }
 },
 "nbformat": 4,
 "nbformat_minor": 5
}
